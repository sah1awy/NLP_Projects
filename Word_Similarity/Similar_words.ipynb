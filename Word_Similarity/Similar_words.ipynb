{
 "cells": [
  {
   "cell_type": "code",
   "execution_count": 2,
   "id": "7c105ba7-df20-4216-a7ca-7bf06cb8e9ac",
   "metadata": {},
   "outputs": [],
   "source": [
    "import random"
   ]
  },
  {
   "cell_type": "code",
   "execution_count": 3,
   "id": "bd5cb635",
   "metadata": {},
   "outputs": [
    {
     "name": "stdout",
     "output_type": "stream",
     "text": [
      "2195790 300\n",
      "['أ', '.آ', 'آ', 'vis-أ', 'atآ', '.آ', 'toآ', '.آ', '.آ', 'إ', 'emailآ', 'آ', 'Grأ', 'ngأ', 'orآ', 'tأھte-أ', 'إ', 'إ', 'nأ', 'Bأ', 'vأ', 'آ', 'bأ', 'آ', 'contactآ', 'آ', 'إ', 'Hoأ', 'Fأ', 'آ']\n",
      "scoopable\n",
      "Revereware\n",
      "<span>\n",
      "e-ISSN\n",
      "Kusters\n",
      "Siporin\n",
      "Unslung\n",
      "10/5/04\n",
      "22.80\n",
      "JSchon\n",
      "--------------------------------------------------\n",
      "Moviestore\n",
      "Grouville\n",
      "Lul\n",
      "Tugun\n",
      "48003\n",
      "27635\n",
      "Raxa\n",
      "expectation\n",
      "E-Lite\n",
      "time-line\n",
      "--------------------------------------------------\n",
      ",  <>  [-0.082752  0.67204  -0.14987  -0.064983  0.056491]\n",
      ".  <>  [ 0.012001  0.20751  -0.12578  -0.59325   0.12525 ]\n",
      "the  <>  [ 0.27204  -0.06203  -0.1884    0.023225 -0.018158]\n",
      "and  <>  [-0.18567   0.066008 -0.25209  -0.11725   0.26513 ]\n",
      "to  <>  [ 0.31924   0.06316  -0.27858   0.2612    0.079248]\n",
      "of  <>  [ 0.060216  0.21799  -0.04249  -0.38618  -0.15388 ]\n",
      "a  <>  [ 0.043798  0.024779 -0.20937   0.49745   0.36019 ]\n",
      "in  <>  [ 0.089187  0.25792   0.26282  -0.029365  0.47187 ]\n",
      "\"  <>  [-0.075242  0.57337  -0.31908  -0.18484   0.88867 ]\n",
      ":  <>  [ 0.008746  0.33214  -0.29175  -0.15119  -0.41842 ]\n",
      "is  <>  [-0.084961   0.502      0.0023823 -0.16755    0.30721  ]\n",
      "for  <>  [-0.17224   0.18234  -0.27847  -0.084666  0.25442 ]\n",
      "I  <>  [ 0.1941    0.22603  -0.43764  -0.11387  -0.072725]\n",
      ")  <>  [-0.27142   0.047374 -0.17278  -0.029084 -0.2191  ]\n",
      "(  <>  [-0.18024    0.0084106 -0.30463    0.20997    0.085153 ]\n",
      "that  <>  [ 0.09852   0.25001  -0.27018  -0.23186   0.022378]\n",
      "-  <>  [-0.20688  0.66724 -0.14633  0.4204   0.19229]\n",
      "on  <>  [-0.070186  0.15274  -0.33086   0.11609  -0.17336 ]\n",
      "you  <>  [-0.11076   0.30786  -0.5198    0.035138  0.10368 ]\n",
      "with  <>  [-0.099534  0.028202 -0.23189   0.094477  0.12191 ]\n"
     ]
    }
   ],
   "source": [
    "from helper_functions import *\n",
    "link = \"https://economictimes.indiatimes.com/definition/business\"\n",
    "text = scrap(link)\n",
    "exp_words = process(text)\n",
    "print(V,D)\n",
    "print(na[:30])\n",
    "for _ in range(10):\n",
    "    r = random.randint(0,V)\n",
    "    print(idx2word[r])\n",
    "print('-'*50)\n",
    "for _ in range(10):\n",
    "    r = random.randint(0,V)\n",
    "    print(idx2word[r])\n",
    "print('-'*50)\n",
    "i = 0\n",
    "for w,v in word2vec.items():\n",
    "    if i == 20: break\n",
    "    print(w,\" <> \",v[:5])\n",
    "    i += 1"
   ]
  },
  {
   "cell_type": "code",
   "execution_count": 4,
   "id": "b40dcc82-c73c-4880-9b01-bd09f446a889",
   "metadata": {},
   "outputs": [
    {
     "name": "stdout",
     "output_type": "stream",
     "text": [
      "king - man = queen - woman\n",
      "france - paris = england - london\n",
      "france - paris = italy - rome\n",
      "paris - france = rome - italy\n",
      "france - french = europe - english\n"
     ]
    }
   ],
   "source": [
    "find_analogy('king', 'man', 'woman')\n",
    "find_analogy('france', 'paris', 'london')\n",
    "find_analogy('france', 'paris', 'rome')\n",
    "find_analogy('paris', 'france', 'italy')\n",
    "find_analogy('france', 'french', 'english')"
   ]
  },
  {
   "cell_type": "code",
   "execution_count": 5,
   "id": "81dc6edd-2343-4861-88b5-b14103e4fd5f",
   "metadata": {},
   "outputs": [
    {
     "name": "stdout",
     "output_type": "stream",
     "text": [
      "neighbors of: business\n",
      "\tbusinesses\n",
      "\tcompany\n",
      "\tcorporate\n",
      "\tcompanies\n",
      "\tindustry\n",
      "--------------------------------------------------\n",
      "neighbors of: activity\n",
      "\tactivities\n",
      "\tactive\n",
      "\tinvolved\n",
      "\tindicates\n",
      "\tspecific\n",
      "--------------------------------------------------\n",
      "neighbors of: profit\n",
      "\tprofits\n",
      "\trevenue\n",
      "\tearnings\n",
      "\trevenues\n",
      "\tprofitable\n",
      "--------------------------------------------------\n",
      "neighbors of: organization\n",
      "\torganizations\n",
      "\tnon-profit\n",
      "\torganisation\n",
      "\tnonprofit\n",
      "\torganized\n",
      "--------------------------------------------------\n",
      "neighbors of: enterprising\n",
      "\tindustrious\n",
      "\tresourceful\n",
      "\tentrepreneurial\n",
      "\tcanny\n",
      "\tforward-thinking\n",
      "--------------------------------------------------\n"
     ]
    }
   ],
   "source": [
    "for x in exp_words:\n",
    "    nearest_neighbors(x)\n",
    "    print('-'*50)"
   ]
  }
 ],
 "metadata": {
  "kernelspec": {
   "display_name": "Python 3 (ipykernel)",
   "language": "python",
   "name": "python3"
  },
  "language_info": {
   "codemirror_mode": {
    "name": "ipython",
    "version": 3
   },
   "file_extension": ".py",
   "mimetype": "text/x-python",
   "name": "python",
   "nbconvert_exporter": "python",
   "pygments_lexer": "ipython3",
   "version": "3.9.18"
  }
 },
 "nbformat": 4,
 "nbformat_minor": 5
}
