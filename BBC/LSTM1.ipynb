{
 "cells": [
  {
   "cell_type": "code",
   "execution_count": 36,
   "id": "c71ecddf-3b51-4239-b016-ce79fbd5bb73",
   "metadata": {},
   "outputs": [],
   "source": [
    "import csv \n",
    "import matplotlib.pyplot as plt\n",
    "import numpy as np \n",
    "from tensorflow.keras.preprocessing.text import Tokenizer\n",
    "from tensorflow.keras.preprocessing.sequence import pad_sequences\n",
    "from tensorflow.keras.models import Sequential\n",
    "from tensorflow.keras.layers import Input,Dense,Dropout,LSTM,Bidirectional,Flatten,Embedding,Activation\n",
    "import nltk\n",
    "from nltk.corpus import stopwords\n",
    "import re\n",
    "import tensorflow as tf"
   ]
  },
  {
   "cell_type": "code",
   "execution_count": 12,
   "id": "ea963302-501b-4611-8509-be5fefd83264",
   "metadata": {},
   "outputs": [],
   "source": [
    "vocab_sz = 5000\n",
    "max_length = 200\n",
    "oov = '<OOV>'\n",
    "training_ratio = 0.8"
   ]
  },
  {
   "cell_type": "code",
   "execution_count": 5,
   "id": "0904ad76-51ce-4ba3-9d0f-0c2fc10e5e54",
   "metadata": {},
   "outputs": [
    {
     "data": {
      "text/plain": [
       "['i', 'me', 'my', 'myself', 'we', 'our', 'ours', 'ourselves', 'you', \"you're\"]"
      ]
     },
     "execution_count": 5,
     "metadata": {},
     "output_type": "execute_result"
    }
   ],
   "source": [
    "sw = stopwords.words(\"english\")\n",
    "sw[:10]"
   ]
  },
  {
   "cell_type": "code",
   "execution_count": 9,
   "id": "ed45d056-73a3-44e3-90bf-20ef9ff85d91",
   "metadata": {},
   "outputs": [],
   "source": [
    "with open(\"bbc-text.csv\",'r') as f:\n",
    "    rows = csv.reader(f,delimiter=',')\n",
    "    next(rows)\n",
    "    labels = []\n",
    "    articles = []\n",
    "    for row in rows:\n",
    "        labels.append(row[0])\n",
    "        article = row[1].lower()\n",
    "        for w in sw:\n",
    "            article = article.replace(' ' + w + ' ',' ')\n",
    "            article = re.sub('\\s+',' ',article)\n",
    "        articles.append(article)"
   ]
  },
  {
   "cell_type": "code",
   "execution_count": 10,
   "id": "b4513114-b466-4da8-8f20-562dbef5cc4b",
   "metadata": {},
   "outputs": [
    {
     "data": {
      "text/plain": [
       "['tech',\n",
       " 'business',\n",
       " 'sport',\n",
       " 'sport',\n",
       " 'entertainment',\n",
       " 'politics',\n",
       " 'politics',\n",
       " 'sport',\n",
       " 'sport',\n",
       " 'entertainment']"
      ]
     },
     "execution_count": 10,
     "metadata": {},
     "output_type": "execute_result"
    }
   ],
   "source": [
    "labels[:10]"
   ]
  },
  {
   "cell_type": "code",
   "execution_count": 11,
   "id": "6199e68a-7685-4151-997b-2a14b0c82304",
   "metadata": {},
   "outputs": [
    {
     "data": {
      "text/plain": [
       "'tv future hands viewers home theatre systems plasma high-definition tvs digital video recorders moving living room way people watch tv radically different five years time. according expert panel gathered annual consumer electronics show las vegas discuss new technologies impact one favourite pastimes. us leading trend programmes content delivered viewers via home networks cable satellite telecoms companies broadband service providers front rooms portable devices. one talked-about technologies ces digital personal video recorders (dvr pvr). set-top boxes like us tivo uk sky+ system allow people record store play pause forward wind tv programmes want. essentially technology allows much personalised tv. also built-in high-definition tv sets big business japan us slower take europe lack high-definition programming. people forward wind adverts also forget abiding network channel schedules putting together a-la-carte entertainment. us networks cable satellite companies worried means terms advertising revenues well brand identity viewer loyalty channels. although us leads technology moment also concern raised europe particularly growing uptake services like sky+. happens today see nine months years time uk adam hume bbc broadcast futurologist told bbc news website. likes bbc issues lost advertising revenue yet. pressing issue moment commercial uk broadcasters brand loyalty important everyone. talking content brands rather network brands said tim hanlon brand communications firm starcom mediavest. reality broadband connections anybody producer content. added: challenge is hard promote programme much choice. means said stacey jolna senior vice president tv guide tv group way people find content want watch simplified tv viewers. means networks us terms channels could take leaf google book search engine future instead scheduler help people find want watch. kind channel model might work younger ipod generation used taking control gadgets play them. might suit everyone panel recognised. older generations comfortable familiar schedules channel brands know getting. perhaps want much choice put hands mr hanlon suggested. end kids diapers pushing buttons already - everything possible available said mr hanlon. ultimately consumer tell market want. 50 000 new gadgets technologies showcased ces many enhancing tv-watching experience. high-definition tv sets everywhere many new models lcd (liquid crystal display) tvs launched dvr capability built instead external boxes. one example launched show humax 26-inch lcd tv 80-hour tivo dvr dvd recorder. one us biggest satellite tv companies directtv even launched branded dvr show 100-hours recording capability instant replay search function. set pause rewind tv 90 hours. microsoft chief bill gates announced pre-show keynote speech partnership tivo called tivotogo means people play recorded programmes windows pcs mobile devices. reflect increasing trend freeing multimedia people watch want want.'"
      ]
     },
     "execution_count": 11,
     "metadata": {},
     "output_type": "execute_result"
    }
   ],
   "source": [
    "articles[0]"
   ]
  },
  {
   "cell_type": "code",
   "execution_count": 13,
   "id": "6fd8877d-6caf-47e8-b3e0-f982dfd1cfca",
   "metadata": {},
   "outputs": [],
   "source": [
    "training_articles = articles[:int(training_ratio * len(articles))]\n",
    "val_articles = articles[int(training_ratio * len(articles)):]\n",
    "training_labels = labels[:int(training_ratio * len(articles))]\n",
    "val_labels = labels[int(training_ratio * len(articles)):]"
   ]
  },
  {
   "cell_type": "code",
   "execution_count": 14,
   "id": "0dec9451-0f0a-446a-a5a9-aaeeee76d0bb",
   "metadata": {},
   "outputs": [
    {
     "name": "stdout",
     "output_type": "stream",
     "text": [
      "Training articles: 1780\n",
      "Training labels: 1780\n",
      "Validation articles: 445\n",
      "Validation_labels: 445\n"
     ]
    }
   ],
   "source": [
    "print(\"Training articles:\",len(training_articles))\n",
    "print(\"Training labels:\",len(training_labels))\n",
    "print(\"Validation articles:\",len(val_articles))\n",
    "print(\"Validation_labels:\",len(val_labels))"
   ]
  },
  {
   "cell_type": "code",
   "execution_count": 15,
   "id": "8a74604a-a268-4eec-a491-93da571a5965",
   "metadata": {},
   "outputs": [],
   "source": [
    "tok = Tokenizer(num_words=vocab_sz,oov_token=oov)\n",
    "tok.fit_on_texts(training_articles)\n",
    "word_idx = tok.word_index"
   ]
  },
  {
   "cell_type": "code",
   "execution_count": 23,
   "id": "06e5611f-f5cd-4278-a429-7f75df73b599",
   "metadata": {},
   "outputs": [
    {
     "name": "stdout",
     "output_type": "stream",
     "text": [
      "<OOV> : 1\n",
      "said : 2\n",
      "mr : 3\n",
      "would : 4\n",
      "year : 5\n",
      "also : 6\n",
      "people : 7\n",
      "new : 8\n",
      "us : 9\n",
      "one : 10\n",
      "could : 11\n",
      "last : 12\n",
      "first : 13\n",
      "time : 14\n",
      "two : 15\n",
      "government : 16\n",
      "world : 17\n",
      "uk : 18\n",
      "best : 19\n",
      "years : 20\n",
      "make : 21\n",
      "film : 22\n",
      "told : 23\n",
      "made : 24\n",
      "get : 25\n",
      "music : 26\n",
      "game : 27\n",
      "like : 28\n",
      "back : 29\n",
      "many : 30\n",
      "000 : 31\n",
      "labour : 32\n",
      "three : 33\n",
      "well : 34\n",
      "1 : 35\n",
      "next : 36\n",
      "bbc : 37\n",
      "take : 38\n",
      "set : 39\n",
      "number : 40\n",
      "added : 41\n",
      "way : 42\n",
      "market : 43\n",
      "2 : 44\n",
      "company : 45\n",
      "may : 46\n",
      "says : 47\n",
      "election : 48\n",
      "home : 49\n",
      "party : 50\n",
      "good : 51\n",
      "going : 52\n",
      "much : 53\n",
      "work : 54\n",
      "2004 : 55\n",
      "still : 56\n",
      "win : 57\n",
      "show : 58\n",
      "think : 59\n",
      "games : 60\n",
      "go : 61\n",
      "top : 62\n",
      "second : 63\n",
      "million : 64\n",
      "6 : 65\n",
      "england : 66\n",
      "firm : 67\n",
      "since : 68\n",
      "week : 69\n",
      "say : 70\n",
      "play : 71\n",
      "part : 72\n",
      "public : 73\n",
      "use : 74\n",
      "blair : 75\n",
      "3 : 76\n",
      "want : 77\n",
      "minister : 78\n",
      "however : 79\n",
      "10 : 80\n",
      "country : 81\n",
      "technology : 82\n",
      "see : 83\n",
      "4 : 84\n",
      "five : 85\n",
      "british : 86\n",
      "news : 87\n",
      "european : 88\n",
      "high : 89\n",
      "group : 90\n",
      "tv : 91\n",
      "used : 92\n",
      "end : 93\n",
      "expected : 94\n",
      "even : 95\n",
      "players : 96\n",
      "brown : 97\n",
      "5 : 98\n",
      "six : 99\n"
     ]
    }
   ],
   "source": [
    "i = 1\n",
    "k = list(word_idx.keys())\n",
    "while True:\n",
    "    print(k[i-1],\":\",i)\n",
    "    i += 1\n",
    "    if i == 100:\n",
    "        break"
   ]
  },
  {
   "cell_type": "code",
   "execution_count": 24,
   "id": "96e78724-5d65-4562-9154-583c713e20c1",
   "metadata": {},
   "outputs": [],
   "source": [
    "training_seq = tok.texts_to_sequences(training_articles)\n",
    "val_seq = tok.texts_to_sequences(val_articles)"
   ]
  },
  {
   "cell_type": "code",
   "execution_count": 26,
   "id": "1fa1a3fd-a35a-41cf-8ceb-cfcf3e866dd0",
   "metadata": {},
   "outputs": [
    {
     "data": {
      "text/plain": [
       "(426, 156)"
      ]
     },
     "execution_count": 26,
     "metadata": {},
     "output_type": "execute_result"
    }
   ],
   "source": [
    "len(training_seq[0]),len(val_seq[0])"
   ]
  },
  {
   "cell_type": "code",
   "execution_count": 27,
   "id": "2e6f3547-2eaa-4a71-84b7-c31123c2efff",
   "metadata": {},
   "outputs": [],
   "source": [
    "training_pad = pad_sequences(training_seq,maxlen=max_length)\n",
    "val_pad = pad_sequences(val_seq,maxlen=max_length)"
   ]
  },
  {
   "cell_type": "code",
   "execution_count": 29,
   "id": "2985842d-fdc9-40a6-be0a-b0f59cdb5463",
   "metadata": {},
   "outputs": [
    {
     "data": {
      "text/plain": [
       "(200, 200)"
      ]
     },
     "execution_count": 29,
     "metadata": {},
     "output_type": "execute_result"
    }
   ],
   "source": [
    "len(training_pad[0]),len(val_pad[0])"
   ]
  },
  {
   "cell_type": "code",
   "execution_count": 30,
   "id": "ce76ad86-3354-4e6f-b617-8c3a2737ab0f",
   "metadata": {},
   "outputs": [],
   "source": [
    "lb_tok = Tokenizer()\n",
    "lb_tok.fit_on_texts(training_labels)\n",
    "training_labels_seq = lb_tok.texts_to_sequences(training_labels)\n",
    "val_labels_seq = lb_tok.texts_to_sequences(val_labels)"
   ]
  },
  {
   "cell_type": "code",
   "execution_count": 43,
   "id": "199982fa-294f-46c6-ad2a-dd73e1dea3db",
   "metadata": {},
   "outputs": [],
   "source": [
    "model = Sequential()\n",
    "model.add(Embedding(input_dim=vocab_sz,output_dim=64))\n",
    "model.add(Dropout(0.5))\n",
    "model.add(Bidirectional(LSTM(units=64)))\n",
    "model.add(Dense(6,activation='softmax'))"
   ]
  },
  {
   "cell_type": "code",
   "execution_count": 44,
   "id": "e9235e35-d669-412f-a19c-0ab0d4e878d7",
   "metadata": {},
   "outputs": [
    {
     "name": "stdout",
     "output_type": "stream",
     "text": [
      "Model: \"sequential_2\"\n",
      "_________________________________________________________________\n",
      " Layer (type)                Output Shape              Param #   \n",
      "=================================================================\n",
      " embedding_2 (Embedding)     (None, None, 64)          320000    \n",
      "                                                                 \n",
      " dropout_2 (Dropout)         (None, None, 64)          0         \n",
      "                                                                 \n",
      " bidirectional_2 (Bidirectio  (None, 128)              66048     \n",
      " nal)                                                            \n",
      "                                                                 \n",
      " dense_1 (Dense)             (None, 6)                 774       \n",
      "                                                                 \n",
      "=================================================================\n",
      "Total params: 386,822\n",
      "Trainable params: 386,822\n",
      "Non-trainable params: 0\n",
      "_________________________________________________________________\n"
     ]
    }
   ],
   "source": [
    "model.summary()"
   ]
  },
  {
   "cell_type": "code",
   "execution_count": 45,
   "id": "47b1849d-c019-4b45-8271-cfbb50278c4c",
   "metadata": {},
   "outputs": [],
   "source": [
    "opt = tf.keras.optimizers.Adam(lr=0.001, decay=1e-6)\n",
    "model.compile(loss='sparse_categorical_crossentropy',optimizer=opt,metrics=['accuracy'])"
   ]
  },
  {
   "cell_type": "code",
   "execution_count": 39,
   "id": "c03f24d0-bd4b-4f78-a63e-3ce1a006aa21",
   "metadata": {},
   "outputs": [
    {
     "data": {
      "text/plain": [
       "array([[  53,  548,  400, ...,  893,   77,   77],\n",
       "       [   0,    0,    0, ..., 4728, 2358,    1],\n",
       "       [   0,    0,    0, ..., 1091,   24, 1823],\n",
       "       ...,\n",
       "       [1804, 4193,  115, ...,  235, 1681,  806],\n",
       "       [1884,  645,  287, ..., 1059, 1335,   88],\n",
       "       [   0,    0,    0, ..., 4069, 1461,  330]])"
      ]
     },
     "execution_count": 39,
     "metadata": {},
     "output_type": "execute_result"
    }
   ],
   "source": [
    "training_pad"
   ]
  },
  {
   "cell_type": "code",
   "execution_count": 41,
   "id": "21d347a7-a1b8-494f-8a82-9ce53804d944",
   "metadata": {},
   "outputs": [],
   "source": [
    "training_labels_seq = np.array(training_labels_seq)"
   ]
  },
  {
   "cell_type": "code",
   "execution_count": 47,
   "id": "4b48bd45-2e39-4b60-aac4-6466e90b144c",
   "metadata": {},
   "outputs": [],
   "source": [
    "val_labels_seq = np.array(val_labels_seq)"
   ]
  },
  {
   "cell_type": "code",
   "execution_count": 48,
   "id": "7ca25355-1b59-4bcf-bada-3079fc24254e",
   "metadata": {},
   "outputs": [
    {
     "name": "stdout",
     "output_type": "stream",
     "text": [
      "Epoch 1/30\n",
      "56/56 [==============================] - 23s 420ms/step - loss: 1.1954 - accuracy: 0.5736 - val_loss: 1.0491 - val_accuracy: 0.4719\n",
      "Epoch 2/30\n",
      "56/56 [==============================] - 22s 395ms/step - loss: 0.8440 - accuracy: 0.6876 - val_loss: 0.7166 - val_accuracy: 0.7461\n",
      "Epoch 3/30\n",
      "56/56 [==============================] - 20s 349ms/step - loss: 0.5417 - accuracy: 0.8691 - val_loss: 0.5941 - val_accuracy: 0.8067\n",
      "Epoch 4/30\n",
      "56/56 [==============================] - 19s 339ms/step - loss: 0.7368 - accuracy: 0.7326 - val_loss: 1.1445 - val_accuracy: 0.5124\n",
      "Epoch 5/30\n",
      "56/56 [==============================] - 19s 337ms/step - loss: 0.9680 - accuracy: 0.6792 - val_loss: 1.3231 - val_accuracy: 0.5865\n",
      "Epoch 6/30\n",
      "56/56 [==============================] - 19s 340ms/step - loss: 0.5965 - accuracy: 0.8039 - val_loss: 0.4559 - val_accuracy: 0.8449\n",
      "Epoch 7/30\n",
      "56/56 [==============================] - 19s 336ms/step - loss: 0.2730 - accuracy: 0.9090 - val_loss: 0.3895 - val_accuracy: 0.8742\n",
      "Epoch 8/30\n",
      "56/56 [==============================] - 19s 340ms/step - loss: 0.1839 - accuracy: 0.9562 - val_loss: 0.3143 - val_accuracy: 0.9169\n",
      "Epoch 9/30\n",
      "56/56 [==============================] - 19s 335ms/step - loss: 0.1850 - accuracy: 0.9399 - val_loss: 0.3371 - val_accuracy: 0.8697\n",
      "Epoch 10/30\n",
      "56/56 [==============================] - 18s 318ms/step - loss: 0.1308 - accuracy: 0.9646 - val_loss: 0.2957 - val_accuracy: 0.8921\n",
      "Epoch 11/30\n",
      "56/56 [==============================] - 18s 313ms/step - loss: 0.1164 - accuracy: 0.9680 - val_loss: 0.2426 - val_accuracy: 0.9303\n",
      "Epoch 12/30\n",
      "56/56 [==============================] - 23s 416ms/step - loss: 0.0867 - accuracy: 0.9736 - val_loss: 0.2478 - val_accuracy: 0.9124\n",
      "Epoch 13/30\n",
      "56/56 [==============================] - 19s 340ms/step - loss: 0.0588 - accuracy: 0.9854 - val_loss: 0.2625 - val_accuracy: 0.9213\n",
      "Epoch 14/30\n",
      "56/56 [==============================] - 19s 341ms/step - loss: 0.0557 - accuracy: 0.9837 - val_loss: 0.1941 - val_accuracy: 0.9258\n",
      "Epoch 15/30\n",
      "56/56 [==============================] - 19s 341ms/step - loss: 0.0328 - accuracy: 0.9916 - val_loss: 0.1816 - val_accuracy: 0.9461\n",
      "Epoch 16/30\n",
      "56/56 [==============================] - 19s 343ms/step - loss: 0.0343 - accuracy: 0.9949 - val_loss: 0.1652 - val_accuracy: 0.9483\n",
      "Epoch 20/30\n",
      "56/56 [==============================] - 19s 342ms/step - loss: 0.0160 - accuracy: 0.9983 - val_loss: 0.1687 - val_accuracy: 0.9483\n",
      "Epoch 21/30\n",
      "56/56 [==============================] - 19s 343ms/step - loss: 0.0232 - accuracy: 0.9933 - val_loss: 0.7117 - val_accuracy: 0.7888\n",
      "Epoch 22/30\n",
      "56/56 [==============================] - 18s 330ms/step - loss: 0.0892 - accuracy: 0.9831 - val_loss: 0.2701 - val_accuracy: 0.9393\n",
      "Epoch 23/30\n",
      "56/56 [==============================] - 19s 342ms/step - loss: 0.1300 - accuracy: 0.9702 - val_loss: 0.2556 - val_accuracy: 0.9461\n",
      "Epoch 24/30\n",
      "56/56 [==============================] - 19s 340ms/step - loss: 0.1138 - accuracy: 0.9713 - val_loss: 0.3220 - val_accuracy: 0.8944\n",
      "Epoch 25/30\n",
      "56/56 [==============================] - 18s 324ms/step - loss: 0.0709 - accuracy: 0.9860 - val_loss: 0.2308 - val_accuracy: 0.9393\n",
      "Epoch 26/30\n",
      "56/56 [==============================] - 17s 296ms/step - loss: 0.0249 - accuracy: 0.9961 - val_loss: 0.1783 - val_accuracy: 0.9528\n",
      "Epoch 27/30\n",
      "56/56 [==============================] - 18s 330ms/step - loss: 0.0158 - accuracy: 0.9983 - val_loss: 0.2870 - val_accuracy: 0.9258\n",
      "Epoch 28/30\n",
      "56/56 [==============================] - 19s 339ms/step - loss: 0.0133 - accuracy: 0.9983 - val_loss: 0.1633 - val_accuracy: 0.9528\n",
      "Epoch 29/30\n",
      "56/56 [==============================] - 18s 318ms/step - loss: 0.0063 - accuracy: 1.0000 - val_loss: 0.1495 - val_accuracy: 0.9551\n",
      "Epoch 30/30\n",
      "56/56 [==============================] - 19s 333ms/step - loss: 0.0047 - accuracy: 1.0000 - val_loss: 0.1504 - val_accuracy: 0.9528\n"
     ]
    }
   ],
   "source": [
    "n_epochs = 30\n",
    "history = model.fit(training_pad, training_labels_seq,validation_data=(val_pad,val_labels_seq) ,epochs=n_epochs)"
   ]
  },
  {
   "cell_type": "code",
   "execution_count": 49,
   "id": "96a343f8-b3ab-4571-a3b9-554f9abd8ced",
   "metadata": {},
   "outputs": [
    {
     "data": {
      "image/png": "[encoded data removed]",
      "text/plain": [
       "<Figure size 640x480 with 1 Axes>"
      ]
     },
     "metadata": {},
     "output_type": "display_data"
    }
   ],
   "source": [
    "plt.plot(history.history['accuracy'])\n",
    "plt.plot(history.history['val_accuracy'])\n",
    "plt.title('model accuracy')\n",
    "plt.ylabel('accuracy')\n",
    "plt.xlabel('epoch')\n",
    "plt.legend(['train', 'test'], loc='upper left')\n",
    "plt.show()"
   ]
  },
  {
   "cell_type": "code",
   "execution_count": 50,
   "id": "8c233845-a3e0-4b26-aa57-729d1cb7e80c",
   "metadata": {},
   "outputs": [
    {
     "data": {
      "image/png": "[encoded data removed]",
      "text/plain": [
       "<Figure size 640x480 with 1 Axes>"
      ]
     },
     "metadata": {},
     "output_type": "display_data"
    }
   ],
   "source": [
    "plt.plot(history.history['loss'])\n",
    "plt.plot(history.history['val_loss'])\n",
    "plt.title('model loss')\n",
    "plt.ylabel('loss')\n",
    "plt.xlabel('epoch')\n",
    "plt.legend(['train', 'test'], loc='upper left')\n",
    "plt.show()"
   ]
  },
  {
   "cell_type": "code",
   "execution_count": 52,
   "id": "65f10b99-e2ba-4efe-92ff-be1b4a8bca51",
   "metadata": {},
   "outputs": [
    {
     "name": "stdout",
     "output_type": "stream",
     "text": [
      "1/1 [==============================] - 2s 2s/step\n",
      "[[4.4207249e-05 2.5501431e-04 8.6085807e-04 9.9454850e-01 2.8510843e-03\n",
      "  1.4402347e-03]]\n",
      "3\n",
      "politics\n"
     ]
    }
   ],
   "source": [
    "txt = [\"blair prepares to name poll date tony blair is likely to name 5 may as election day when parliament returns from its easter break  the bbc s political editor has learned.  andrew marr says mr blair will ask the queen on 4 or 5 april to dissolve parliament at the end of that week. mr blair has so far resisted calls for him to name the day but all parties have stepped up campaigning recently. downing street would not be drawn on the claim  saying election timing was a matter for the prime minister.  a number 10 spokeswoman would only say:  he will announce an election when he wants to announce an election.  the move will signal a frantic week at westminster as the government is likely to try to get key legislation through parliament. the government needs its finance bill  covering the budget plans  to be passed before the commons closes for business at the end of the session on 7 april.  but it will also seek to push through its serious and organised crime bill and id cards bill. mr marr said on wednesday s today programme:  there s almost nobody at a senior level inside the government or in parliament itself who doesn t expect the election to be called on 4 or 5 april.  as soon as the commons is back after the short easter recess  tony blair whips up to the palace  asks the queen to dissolve parliament ... and we re going.  the labour government officially has until june 2006 to hold general election  but in recent years governments have favoured four-year terms.\"]\n",
    "\n",
    "seq = tok.texts_to_sequences(txt)\n",
    "padded = pad_sequences(seq, maxlen=max_length)\n",
    "pred = model.predict(padded)\n",
    "labels = ['sport', 'bussiness', 'politics', 'tech', 'entertainment'] \n",
    "\n",
    "print(pred)\n",
    "print(np.argmax(pred))\n",
    "print(labels[np.argmax(pred)-1])"
   ]
  },
  {
   "cell_type": "code",
   "execution_count": 53,
   "id": "04201496-f678-47f5-ad65-c04c8953ef98",
   "metadata": {},
   "outputs": [
    {
     "name": "stdout",
     "output_type": "stream",
     "text": [
      "1/1 [==============================] - 0s 77ms/step\n",
      "[[2.4538155e-04 1.2381187e-05 9.9424332e-01 5.6265813e-04 2.3731786e-04\n",
      "  4.6989927e-03]]\n",
      "2\n",
      "bussiness\n"
     ]
    }
   ],
   "source": [
    "txt = [\"call to save manufacturing jobs the trades union congress (tuc) is calling on the government to stem job losses in manufacturing firms by reviewing the help it gives companies.  the tuc said in its submission before the budget that action is needed because of 105 000 jobs lost from the sector over the last year. it calls for better pensions  child care provision and decent wages. the 36-page submission also urges the government to examine support other european countries provide to industry. tuc general secretary brendan barber called for  a commitment to policies that will make a real difference to the lives of working people.    greater investment in childcare strategies and the people delivering that childcare will increases the options available to working parents   he said.  a commitment to our public services and manufacturing sector ensures that we can continue to compete on a global level and deliver the frontline services that this country needs.  he also called for  practical measures  to help pensioners  especially women who he said  are most likely to retire in poverty . the submission also calls for decent wages and training for people working in the manufacturing sector.\"]\n",
    "\n",
    "seq = tok.texts_to_sequences(txt)\n",
    "padded = pad_sequences(seq, maxlen=max_length)\n",
    "pred = model.predict(padded)\n",
    "labels = ['sport', 'bussiness', 'politics', 'tech', 'entertainment'] \n",
    "\n",
    "print(pred)\n",
    "print(np.argmax(pred))\n",
    "print(labels[np.argmax(pred)-1])"
   ]
  }
 ],
 "metadata": {
  "kernelspec": {
   "display_name": "Python 3 (ipykernel)",
   "language": "python",
   "name": "python3"
  },
  "language_info": {
   "codemirror_mode": {
    "name": "ipython",
    "version": 3
   },
   "file_extension": ".py",
   "mimetype": "text/x-python",
   "name": "python",
   "nbconvert_exporter": "python",
   "pygments_lexer": "ipython3",
   "version": "3.9.18"
  }
 },
 "nbformat": 4,
 "nbformat_minor": 5
}
