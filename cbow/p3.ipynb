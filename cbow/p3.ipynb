{
 "cells": [
  {
   "cell_type": "markdown",
   "id": "d41dfbff-0418-4330-85a3-d54d1c2fc987",
   "metadata": {},
   "source": [
    "## Import"
   ]
  },
  {
   "cell_type": "code",
   "execution_count": 1,
   "id": "e143d5f0-5575-4110-92c0-24deffa97978",
   "metadata": {},
   "outputs": [],
   "source": [
    "import re\n",
    "import numpy as np \n",
    "import matplotlib.pyplot as plt"
   ]
  },
  {
   "cell_type": "code",
   "execution_count": 2,
   "id": "e60946c1-086d-4a78-ae45-bc9563b60d21",
   "metadata": {},
   "outputs": [],
   "source": [
    "sentences = \"\"\"We are about to study the idea of a computational process.\n",
    "Computational processes are abstract beings that inhabit computers.\n",
    "As they evolve, processes manipulate other abstract things called data.\n",
    "The evolution of a process is directed by a pattern of rules\n",
    "called a program. People create programs to direct processes. In effect,\n",
    "we conjure the spirits of the computer with our spells.\"\"\""
   ]
  },
  {
   "cell_type": "code",
   "execution_count": 3,
   "id": "2b3d0fc2-c943-4031-bc9b-3ce453caf5ab",
   "metadata": {},
   "outputs": [],
   "source": [
    "sentences = re.sub(\"[^A-Za-z0-9]\",' ',sentences)\n",
    "sentences = re.sub(\"(?:^| )\\w(?:$| )\",' ',sentences).strip().lower()"
   ]
  },
  {
   "cell_type": "code",
   "execution_count": 5,
   "id": "e44812e3-591a-4d95-bb5d-b44e0d48f8bf",
   "metadata": {},
   "outputs": [],
   "source": [
    "sentences = re.sub(\"\\s+\",' ',sentences)"
   ]
  },
  {
   "cell_type": "code",
   "execution_count": 6,
   "id": "06bf2a41-20ac-4398-808c-d0617218a886",
   "metadata": {},
   "outputs": [
    {
     "data": {
      "text/plain": [
       "'we are about to study the idea of computational process computational processes are abstract beings that inhabit computers as they evolve processes manipulate other abstract things called data the evolution of process is directed by pattern of rules called program people create programs to direct processes in effect we conjure the spirits of the computer with our spells'"
      ]
     },
     "execution_count": 6,
     "metadata": {},
     "output_type": "execute_result"
    }
   ],
   "source": [
    "sentences"
   ]
  },
  {
   "cell_type": "code",
   "execution_count": 7,
   "id": "cd60497e-c9bc-40ec-9be7-5ad79331f479",
   "metadata": {},
   "outputs": [],
   "source": [
    "words = sentences.split(\" \")\n",
    "vocab = set(words)"
   ]
  },
  {
   "cell_type": "code",
   "execution_count": 8,
   "id": "d6c88f0d-2f57-4faf-9950-c1fdb23d24ec",
   "metadata": {},
   "outputs": [
    {
     "data": {
      "text/plain": [
       "43"
      ]
     },
     "execution_count": 8,
     "metadata": {},
     "output_type": "execute_result"
    }
   ],
   "source": [
    "len(vocab)"
   ]
  },
  {
   "cell_type": "code",
   "execution_count": 9,
   "id": "1227a812-b5de-46ce-9dc9-b5842566b073",
   "metadata": {},
   "outputs": [],
   "source": [
    "vocab_sz = len(vocab)\n",
    "embed_dim = 10\n",
    "context_sz = 2"
   ]
  },
  {
   "cell_type": "code",
   "execution_count": 23,
   "id": "6d4e70af-5944-45bc-9f8b-1004f8eee583",
   "metadata": {},
   "outputs": [],
   "source": [
    "word_idx = {w:i for i,w in enumerate(vocab)}"
   ]
  },
  {
   "cell_type": "code",
   "execution_count": 24,
   "id": "ef6e6a08-480c-4ed3-93f9-071580d17e76",
   "metadata": {},
   "outputs": [],
   "source": [
    "idx_word = {i:w for w,i in zip(word_idx.keys(),word_idx.values())}"
   ]
  },
  {
   "cell_type": "code",
   "execution_count": 26,
   "id": "94a0a15c-787b-4688-967f-158d5acc03ee",
   "metadata": {},
   "outputs": [
    {
     "data": {
      "text/plain": [
       "{0: 'we',\n",
       " 1: 'process',\n",
       " 2: 'processes',\n",
       " 3: 'manipulate',\n",
       " 4: 'conjure',\n",
       " 5: 'evolve',\n",
       " 6: 'idea',\n",
       " 7: 'effect',\n",
       " 8: 'with',\n",
       " 9: 'spells',\n",
       " 10: 'are',\n",
       " 11: 'called',\n",
       " 12: 'pattern',\n",
       " 13: 'create',\n",
       " 14: 'rules',\n",
       " 15: 'computers',\n",
       " 16: 'they',\n",
       " 17: 'of',\n",
       " 18: 'other',\n",
       " 19: 'abstract',\n",
       " 20: 'beings',\n",
       " 21: 'by',\n",
       " 22: 'spirits',\n",
       " 23: 'people',\n",
       " 24: 'the',\n",
       " 25: 'directed',\n",
       " 26: 'our',\n",
       " 27: 'things',\n",
       " 28: 'is',\n",
       " 29: 'inhabit',\n",
       " 30: 'as',\n",
       " 31: 'program',\n",
       " 32: 'in',\n",
       " 33: 'computer',\n",
       " 34: 'to',\n",
       " 35: 'programs',\n",
       " 36: 'study',\n",
       " 37: 'that',\n",
       " 38: 'evolution',\n",
       " 39: 'about',\n",
       " 40: 'direct',\n",
       " 41: 'computational',\n",
       " 42: 'data'}"
      ]
     },
     "execution_count": 26,
     "metadata": {},
     "output_type": "execute_result"
    }
   ],
   "source": [
    "idx_word"
   ]
  },
  {
   "cell_type": "code",
   "execution_count": 29,
   "id": "6556fab7-2e6b-47c2-a103-4db20ff116dc",
   "metadata": {},
   "outputs": [],
   "source": [
    "data = []\n",
    "for i in range(2,len(words)-2):\n",
    "    s = [words[i+j] for j in range(-2,3) if j != 0]\n",
    "    target = words[i]\n",
    "    data.append((s,target))"
   ]
  },
  {
   "cell_type": "code",
   "execution_count": 30,
   "id": "f9707165-5c48-43c5-b9da-373fbf92f975",
   "metadata": {},
   "outputs": [
    {
     "data": {
      "text/plain": [
       "[(['we', 'are', 'to', 'study'], 'about'),\n",
       " (['are', 'about', 'study', 'the'], 'to'),\n",
       " (['about', 'to', 'the', 'idea'], 'study'),\n",
       " (['to', 'study', 'idea', 'of'], 'the'),\n",
       " (['study', 'the', 'of', 'computational'], 'idea')]"
      ]
     },
     "execution_count": 30,
     "metadata": {},
     "output_type": "execute_result"
    }
   ],
   "source": [
    "data[:5]"
   ]
  },
  {
   "cell_type": "code",
   "execution_count": 31,
   "id": "5b5fc689-9903-44de-8e6b-9ca6c8faaf41",
   "metadata": {},
   "outputs": [
    {
     "name": "stdout",
     "output_type": "stream",
     "text": [
      "(43, 10)\n"
     ]
    },
    {
     "data": {
      "text/plain": [
       "array([[0.85759487, 0.30661564, 0.63323079, 0.11494084, 0.70141624,\n",
       "        0.78972387, 0.42538961, 0.67880512, 0.48174031, 0.76995522],\n",
       "       [0.64723152, 0.68252136, 0.8065137 , 0.98798233, 0.12472958,\n",
       "        0.59889264, 0.92856751, 0.71417301, 0.26473621, 0.38806543],\n",
       "       [0.9697622 , 0.67134619, 0.2740989 , 0.93896197, 0.64397462,\n",
       "        0.3669889 , 0.2430678 , 0.16059562, 0.05703247, 0.80080438],\n",
       "       [0.7326819 , 0.82552729, 0.2568238 , 0.90893654, 0.26815061,\n",
       "        0.93561637, 0.42923933, 0.87156435, 0.39714719, 0.37995517],\n",
       "       [0.67075176, 0.78862229, 0.24559443, 0.53256284, 0.02244754,\n",
       "        0.2688023 , 0.59129368, 0.97352329, 0.64049318, 0.33688993],\n",
       "       [0.72318765, 0.6242195 , 0.56713216, 0.07459152, 0.7005349 ,\n",
       "        0.8702987 , 0.9653974 , 0.42938259, 0.6334754 , 0.66132793],\n",
       "       [0.09789315, 0.74535834, 0.6615595 , 0.04075233, 0.11570048,\n",
       "        0.54728447, 0.00130143, 0.79452912, 0.55611606, 0.25503983],\n",
       "       [0.42983834, 0.4184016 , 0.71333181, 0.50769722, 0.98916166,\n",
       "        0.27947912, 0.84735988, 0.28031941, 0.87098583, 0.96744076],\n",
       "       [0.39384048, 0.64887396, 0.27672113, 0.13707767, 0.27576119,\n",
       "        0.66644785, 0.02690757, 0.90701442, 0.48109817, 0.6466673 ],\n",
       "       [0.04202019, 0.9838179 , 0.12731444, 0.47649005, 0.64571563,\n",
       "        0.141281  , 0.42960745, 0.39775521, 0.37776228, 0.03489973],\n",
       "       [0.43228869, 0.35032417, 0.98440743, 0.34230561, 0.98232315,\n",
       "        0.62782251, 0.99227114, 0.97925395, 0.36304982, 0.13803459],\n",
       "       [0.61746355, 0.40821247, 0.51484852, 0.05792438, 0.1873917 ,\n",
       "        0.8873736 , 0.21601566, 0.972999  , 0.46475978, 0.8141659 ],\n",
       "       [0.61920236, 0.59111043, 0.62568768, 0.3424704 , 0.34006492,\n",
       "        0.69723133, 0.10667032, 0.83513497, 0.6406847 , 0.51320838],\n",
       "       [0.24839046, 0.1855715 , 0.41559182, 0.5209779 , 0.95875197,\n",
       "        0.7176951 , 0.82462225, 0.99760977, 0.28377249, 0.98648617],\n",
       "       [0.50070818, 0.63523117, 0.33961898, 0.84935048, 0.68003305,\n",
       "        0.25553985, 0.35374995, 0.76445848, 0.09534633, 0.63219   ],\n",
       "       [0.81807126, 0.56462391, 0.53890898, 0.78811485, 0.72003394,\n",
       "        0.04938574, 0.75541863, 0.35548349, 0.11627683, 0.90332002],\n",
       "       [0.46597181, 0.04977261, 0.31090947, 0.00207371, 0.3083764 ,\n",
       "        0.05078328, 0.47334087, 0.8805338 , 0.04141289, 0.65737527],\n",
       "       [0.1877376 , 0.12492844, 0.19687871, 0.68161408, 0.98381786,\n",
       "        0.37018588, 0.81117206, 0.55023977, 0.35720067, 0.95042229],\n",
       "       [0.78186133, 0.26588394, 0.26652939, 0.25909575, 0.46827474,\n",
       "        0.39459796, 0.19853029, 0.12288738, 0.12427023, 0.02110621],\n",
       "       [0.0887462 , 0.79126503, 0.98243933, 0.73357265, 0.62487063,\n",
       "        0.75976515, 0.65915139, 0.07721609, 0.57087689, 0.51834445],\n",
       "       [0.18030164, 0.22151254, 0.19207567, 0.8994044 , 0.62952271,\n",
       "        0.28800325, 0.00366544, 0.83366995, 0.94921316, 0.22604439],\n",
       "       [0.49042906, 0.04189684, 0.62778821, 0.84888221, 0.31880619,\n",
       "        0.32486423, 0.3401868 , 0.1559006 , 0.43084095, 0.96902394],\n",
       "       [0.63118561, 0.78362177, 0.6294982 , 0.96313905, 0.37084681,\n",
       "        0.08121678, 0.1422297 , 0.84985031, 0.95368397, 0.06617384],\n",
       "       [0.82708525, 0.73200275, 0.0095214 , 0.23307417, 0.3870164 ,\n",
       "        0.10362581, 0.53612033, 0.43979564, 0.81032723, 0.17084824],\n",
       "       [0.59317081, 0.68508911, 0.1456416 , 0.24759728, 0.16267204,\n",
       "        0.86984   , 0.85866358, 0.10068082, 0.2257551 , 0.11668308],\n",
       "       [0.89185025, 0.10168917, 0.90872741, 0.14069644, 0.64694685,\n",
       "        0.65696405, 0.29128734, 0.99487869, 0.05154914, 0.81095642],\n",
       "       [0.83346623, 0.8416808 , 0.66532104, 0.2047567 , 0.47847282,\n",
       "        0.28621907, 0.83327147, 0.91007913, 0.09739062, 0.82025761],\n",
       "       [0.71435634, 0.83534163, 0.20279945, 0.04820856, 0.2475201 ,\n",
       "        0.78375486, 0.29075463, 0.95816144, 0.93950329, 0.73905441],\n",
       "       [0.38854602, 0.0805077 , 0.29118571, 0.86821009, 0.81786472,\n",
       "        0.69523862, 0.1795227 , 0.35557062, 0.00533506, 0.3599746 ],\n",
       "       [0.37627119, 0.17666199, 0.21594749, 0.16442674, 0.06951262,\n",
       "        0.97088529, 0.05355413, 0.28499499, 0.62329818, 0.37042724],\n",
       "       [0.82334006, 0.40710177, 0.41108752, 0.48115892, 0.53585653,\n",
       "        0.8295678 , 0.48256705, 0.66764386, 0.14515798, 0.95888981],\n",
       "       [0.90211541, 0.25161615, 0.00357053, 0.76934318, 0.53265798,\n",
       "        0.61104397, 0.34015913, 0.71971079, 0.12084248, 0.56779075],\n",
       "       [0.33966301, 0.53862038, 0.82329491, 0.07430512, 0.09947739,\n",
       "        0.32888874, 0.17695394, 0.11430867, 0.08030167, 0.99705128],\n",
       "       [0.03878785, 0.02484046, 0.06177373, 0.89559313, 0.74602897,\n",
       "        0.02163792, 0.19833424, 0.6413465 , 0.07303644, 0.19919489],\n",
       "       [0.48161638, 0.75228132, 0.98895935, 0.17928844, 0.1901061 ,\n",
       "        0.5809877 , 0.22564239, 0.27121586, 0.14375032, 0.9106485 ],\n",
       "       [0.95821073, 0.93315685, 0.07495337, 0.41322803, 0.26038669,\n",
       "        0.49697735, 0.89590511, 0.1492447 , 0.65704994, 0.459293  ],\n",
       "       [0.36237868, 0.93766024, 0.59511991, 0.58241055, 0.13388406,\n",
       "        0.50933142, 0.96411556, 0.82792023, 0.70251065, 0.3107413 ],\n",
       "       [0.89352326, 0.95157634, 0.59977802, 0.31827087, 0.91137201,\n",
       "        0.03411677, 0.12822862, 0.17526667, 0.06515641, 0.60476415],\n",
       "       [0.3985926 , 0.67258543, 0.24947762, 0.55109991, 0.8293174 ,\n",
       "        0.20775104, 0.46641059, 0.63195728, 0.97896214, 0.62684174],\n",
       "       [0.90356315, 0.56462479, 0.37274787, 0.11281411, 0.84875035,\n",
       "        0.82808463, 0.44950332, 0.2003247 , 0.30909222, 0.62135667],\n",
       "       [0.49157398, 0.7138579 , 0.17088662, 0.12175771, 0.54176286,\n",
       "        0.21106159, 0.85044787, 0.8287579 , 0.02584057, 0.72145355],\n",
       "       [0.90521046, 0.57032355, 0.88584402, 0.67818791, 0.59647362,\n",
       "        0.74988493, 0.66087062, 0.2260233 , 0.71964121, 0.94909241],\n",
       "       [0.47000482, 0.80407262, 0.31754669, 0.08139067, 0.44077372,\n",
       "        0.01072593, 0.65536612, 0.54033644, 0.14076786, 0.18637902]])"
      ]
     },
     "execution_count": 31,
     "metadata": {},
     "output_type": "execute_result"
    }
   ],
   "source": [
    "embeddings = np.random.random_sample(size=(vocab_sz,embed_dim))\n",
    "print(embeddings.shape)\n",
    "embeddings"
   ]
  },
  {
   "cell_type": "code",
   "execution_count": 45,
   "id": "0e8bf338-5b06-4cae-bc74-2d22c2772ca8",
   "metadata": {},
   "outputs": [],
   "source": [
    "def linear(m,theta):\n",
    "    return m.dot(theta)"
   ]
  },
  {
   "cell_type": "code",
   "execution_count": 33,
   "id": "ce727fbc-6904-4efc-a052-ffcbf5813a4f",
   "metadata": {},
   "outputs": [],
   "source": [
    "def softmax(z):\n",
    "    e_z = np.exp(z-np.max(z))\n",
    "    return np.log(e_z / e_z.sum())"
   ]
  },
  {
   "cell_type": "code",
   "execution_count": 34,
   "id": "e479ca54-4594-4fb5-9228-fecb035f3c37",
   "metadata": {},
   "outputs": [],
   "source": [
    "def nll(logs,targets):\n",
    "    out = logs[range(len(targets)),targets]\n",
    "    return (-out.sum())/len(out)"
   ]
  },
  {
   "cell_type": "code",
   "execution_count": 55,
   "id": "ae1938c5-5693-497d-8bac-af2913de0cf9",
   "metadata": {},
   "outputs": [],
   "source": [
    "def crossentropy(logits,target):\n",
    "    out = np.zeros_like(logits)\n",
    "    out[np.arange(len(target)),target] = 1\n",
    "    softmax = np.exp(logits) / np.exp(logits).sum(axis=-1,keepdims=True)\n",
    "    return (-out + softmax) / logits.shape[0]"
   ]
  },
  {
   "cell_type": "code",
   "execution_count": 36,
   "id": "2027bba9-480f-4f78-bf67-94de4db671bf",
   "metadata": {},
   "outputs": [],
   "source": [
    "def forward(context_idxs, theta):\n",
    "    m = embeddings[context_idxs].reshape(1, -1)\n",
    "    n = linear(m, theta)\n",
    "    o = softmax(n)\n",
    "    return m, n, o"
   ]
  },
  {
   "cell_type": "code",
   "execution_count": 37,
   "id": "ede1e5aa-b4e5-4cc4-9d16-5fead26abccb",
   "metadata": {},
   "outputs": [],
   "source": [
    "def backward(preds, theta, target_idxs):\n",
    "    m, n, o = preds\n",
    "    dlog = crossentropy(n, target_idxs)\n",
    "    dw = m.T.dot(dlog)\n",
    "    return dw"
   ]
  },
  {
   "cell_type": "code",
   "execution_count": 38,
   "id": "1b76befe-46a9-4aa2-bdd7-ab835fb3f6e1",
   "metadata": {},
   "outputs": [],
   "source": [
    "def optimize(theta, grad, lr=0.03):\n",
    "    theta -= grad * lr\n",
    "    return theta"
   ]
  },
  {
   "cell_type": "code",
   "execution_count": 40,
   "id": "3c1e4adf-5060-44d5-90c0-7af330043fa0",
   "metadata": {},
   "outputs": [],
   "source": [
    "theta = np.random.uniform(-1, 1, (2 * context_sz * embed_dim, vocab_sz))"
   ]
  },
  {
   "cell_type": "code",
   "execution_count": 42,
   "id": "2ea822f9-113d-418b-a614-84fe6a94d3c2",
   "metadata": {},
   "outputs": [
    {
     "data": {
      "text/plain": [
       "(40, 43)"
      ]
     },
     "execution_count": 42,
     "metadata": {},
     "output_type": "execute_result"
    }
   ],
   "source": [
    "theta.shape"
   ]
  },
  {
   "cell_type": "code",
   "execution_count": 56,
   "id": "1dfec043-34e9-4f76-9a5b-7f65e79d0f85",
   "metadata": {},
   "outputs": [],
   "source": [
    "epoch_losses = {}\n",
    "for epoch in range(80):\n",
    "    losses =  []\n",
    "    for context, target in data:\n",
    "        context_idxs = np.array([word_idx[w] for w in context])\n",
    "        preds = forward(context_idxs, theta)\n",
    "        target_idxs = np.array([word_idx[target]])\n",
    "        loss = nll(preds[-1], target_idxs)\n",
    "        losses.append(loss)\n",
    "        grad = backward(preds, theta, target_idxs)\n",
    "        theta = optimize(theta, grad, lr=0.03)\n",
    "    epoch_losses[epoch] = losses"
   ]
  },
  {
   "cell_type": "code",
   "execution_count": 57,
   "id": "92492041-aae2-462a-bfce-daa13a882e07",
   "metadata": {},
   "outputs": [
    {
     "data": {
      "text/plain": [
       "Text(0, 0.5, 'Losses')"
      ]
     },
     "execution_count": 57,
     "metadata": {},
     "output_type": "execute_result"
    },
    {
     "data": {
      "image/png": "[encoded data removed]",
      "text/plain": [
       "<Figure size 640x480 with 1 Axes>"
      ]
     },
     "metadata": {},
     "output_type": "display_data"
    }
   ],
   "source": [
    "ix = np.arange(0,80)\n",
    "\n",
    "fig = plt.figure()\n",
    "fig.suptitle('Epoch/Losses', fontsize=20)\n",
    "plt.plot(ix,[epoch_losses[i][0] for i in ix])\n",
    "plt.xlabel('Epochs', fontsize=12)\n",
    "plt.ylabel('Losses', fontsize=12)"
   ]
  },
  {
   "cell_type": "code",
   "execution_count": 62,
   "id": "3d44003a-e857-44c6-848b-f2b4223d3b8b",
   "metadata": {},
   "outputs": [],
   "source": [
    "def predict(words):\n",
    "    context_idxs = np.array([word_idx[w] for w in words])\n",
    "    preds = forward(context_idxs, theta)\n",
    "    word = idx_word[np.argmax(preds[-1])]\n",
    "    \n",
    "    return word"
   ]
  },
  {
   "cell_type": "code",
   "execution_count": 63,
   "id": "c12c2232-cfbd-43d8-a391-d386b3e87834",
   "metadata": {},
   "outputs": [
    {
     "data": {
      "text/plain": [
       "'about'"
      ]
     },
     "execution_count": 63,
     "metadata": {},
     "output_type": "execute_result"
    }
   ],
   "source": [
    "predict(['we', 'are', 'to', 'study'])"
   ]
  },
  {
   "cell_type": "code",
   "execution_count": 64,
   "id": "a380ce53-727a-4cf5-841f-3b5a7a9b5862",
   "metadata": {},
   "outputs": [],
   "source": [
    "def accuracy():\n",
    "    wrong = 0\n",
    "\n",
    "    for context, target in data:\n",
    "        if(predict(context) != target):\n",
    "            wrong += 1\n",
    "            \n",
    "    return (1 - (wrong / len(data)))"
   ]
  },
  {
   "cell_type": "code",
   "execution_count": 65,
   "id": "ab6871c8-4989-47ad-8501-42f70bd516e5",
   "metadata": {},
   "outputs": [
    {
     "data": {
      "text/plain": [
       "1.0"
      ]
     },
     "execution_count": 65,
     "metadata": {},
     "output_type": "execute_result"
    }
   ],
   "source": [
    "accuracy()"
   ]
  }
 ],
 "metadata": {
  "kernelspec": {
   "display_name": "Python 3 (ipykernel)",
   "language": "python",
   "name": "python3"
  },
  "language_info": {
   "codemirror_mode": {
    "name": "ipython",
    "version": 3
   },
   "file_extension": ".py",
   "mimetype": "text/x-python",
   "name": "python",
   "nbconvert_exporter": "python",
   "pygments_lexer": "ipython3",
   "version": "3.9.18"
  }
 },
 "nbformat": 4,
 "nbformat_minor": 5
}
