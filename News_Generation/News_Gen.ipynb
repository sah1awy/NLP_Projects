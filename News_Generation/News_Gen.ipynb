{
 "cells": [
  {
   "cell_type": "code",
   "execution_count": 7,
   "id": "58bef57f-84f6-47a7-8091-d36da8d30ca7",
   "metadata": {},
   "outputs": [],
   "source": [
    "import random\n",
    "import pickle \n",
    "import pandas as pd\n",
    "import numpy as np \n",
    "from nltk.tokenize import RegexpTokenizer\n",
    "from tensorflow.keras.models import Sequential,load_model\n",
    "from tensorflow.keras.layers import LSTM,Dense,Activation\n",
    "from tensorflow.keras.optimizers import RMSprop"
   ]
  },
  {
   "cell_type": "code",
   "execution_count": 4,
   "id": "75ccd62d-a98d-4ca3-8af8-3b544ce1a702",
   "metadata": {},
   "outputs": [],
   "source": [
    "df = pd.read_csv(\"Fake_Real_Data.csv\")\n",
    "txt = list(df.Text.values)\n",
    "txt = \" \".join(txt)"
   ]
  },
  {
   "cell_type": "code",
   "execution_count": 5,
   "id": "9e88eea5-9c0d-4f7b-9ce2-20b9d37f6182",
   "metadata": {},
   "outputs": [],
   "source": [
    "part_txt = txt[:10000]"
   ]
  },
  {
   "cell_type": "code",
   "execution_count": 8,
   "id": "3196d2f7-7b72-4dc7-b19b-f946ea19d2d0",
   "metadata": {},
   "outputs": [],
   "source": [
    "tokenizer = RegexpTokenizer('\\w+')\n",
    "tokens = tokenizer.tokenize(part_txt.lower())"
   ]
  },
  {
   "cell_type": "code",
   "execution_count": 10,
   "id": "be1ea025-3281-4e26-a219-e3ef129af7dd",
   "metadata": {},
   "outputs": [],
   "source": [
    "uq_tokens = np.unique(tokens)\n",
    "uq_tokens_idx = {x:i for i,x in enumerate(uq_tokens)}"
   ]
  },
  {
   "cell_type": "code",
   "execution_count": 13,
   "id": "1523915a-cb18-4cfb-90f0-22b5c4d3b24b",
   "metadata": {},
   "outputs": [],
   "source": [
    "n_words = 10\n",
    "input_words = []\n",
    "next_words = []\n",
    "\n",
    "for i in range(len(tokens) - n_words):\n",
    "    input_words.append(tokens[i:i+n_words])\n",
    "    next_words.append(tokens[i+n_words])"
   ]
  },
  {
   "cell_type": "code",
   "execution_count": 18,
   "id": "9f53f932-9d57-4a30-96c0-d8b589689fc2",
   "metadata": {},
   "outputs": [],
   "source": [
    "x = np.zeros((len(input_words),n_words,len(uq_tokens)),dtype=bool)\n",
    "y = np.zeros((len(input_words),len(uq_tokens)),dtype=bool)"
   ]
  },
  {
   "cell_type": "code",
   "execution_count": 21,
   "id": "839fea41-cc90-4564-bb72-a216bdc37c71",
   "metadata": {},
   "outputs": [
    {
     "data": {
      "text/plain": [
       "((1686, 10, 656), (1686, 656))"
      ]
     },
     "execution_count": 21,
     "metadata": {},
     "output_type": "execute_result"
    }
   ],
   "source": [
    "x.shape, y.shape"
   ]
  },
  {
   "cell_type": "code",
   "execution_count": 23,
   "id": "3aaf1ec3-6700-45a9-9be0-7897bb69da26",
   "metadata": {},
   "outputs": [],
   "source": [
    "for i, words in enumerate(input_words):\n",
    "    for j,word in enumerate(words):\n",
    "        x[i,j,uq_tokens_idx[word]] = 1\n",
    "    y[i,uq_tokens_idx[next_words[i]]] = 1"
   ]
  },
  {
   "cell_type": "code",
   "execution_count": 24,
   "id": "f0de3810-b708-4ac8-b4f8-474098d1370b",
   "metadata": {},
   "outputs": [],
   "source": [
    "model = Sequential()\n",
    "model.add(LSTM(128,input_shape=(n_words,len(uq_tokens)),return_sequences=True))\n",
    "model.add(LSTM(128))\n",
    "model.add(Dense(len(uq_tokens)))\n",
    "model.add(Activation(\"softmax\"))"
   ]
  },
  {
   "cell_type": "code",
   "execution_count": 27,
   "id": "93ab1526-797c-41d1-9143-4aec9faafe7c",
   "metadata": {},
   "outputs": [
    {
     "name": "stdout",
     "output_type": "stream",
     "text": [
      "Epoch 1/30\n",
      "14/14 [==============================] - 4s 37ms/step - loss: 3.8753 - accuracy: 0.1738\n",
      "Epoch 2/30\n",
      "14/14 [==============================] - 1s 49ms/step - loss: 2.8340 - accuracy: 0.3049\n",
      "Epoch 3/30\n",
      "14/14 [==============================] - 1s 67ms/step - loss: 2.2623 - accuracy: 0.4128\n",
      "Epoch 4/30\n",
      "14/14 [==============================] - 1s 64ms/step - loss: 1.8315 - accuracy: 0.5374\n",
      "Epoch 5/30\n",
      "14/14 [==============================] - 1s 62ms/step - loss: 1.4407 - accuracy: 0.6340\n",
      "Epoch 6/30\n",
      "14/14 [==============================] - 1s 58ms/step - loss: 1.1471 - accuracy: 0.7361\n",
      "Epoch 7/30\n",
      "14/14 [==============================] - 1s 59ms/step - loss: 0.8578 - accuracy: 0.8013\n",
      "Epoch 8/30\n",
      "14/14 [==============================] - 1s 63ms/step - loss: 0.7265 - accuracy: 0.8618\n",
      "Epoch 9/30\n",
      "14/14 [==============================] - 1s 65ms/step - loss: 0.5098 - accuracy: 0.9039\n",
      "Epoch 10/30\n",
      "14/14 [==============================] - 1s 61ms/step - loss: 0.3747 - accuracy: 0.9407\n",
      "Epoch 11/30\n",
      "14/14 [==============================] - 1s 56ms/step - loss: 0.3002 - accuracy: 0.9549\n",
      "Epoch 12/30\n",
      "14/14 [==============================] - 1s 60ms/step - loss: 0.2529 - accuracy: 0.9597\n",
      "Epoch 13/30\n",
      "14/14 [==============================] - 1s 69ms/step - loss: 0.2777 - accuracy: 0.9526\n",
      "Epoch 14/30\n",
      "14/14 [==============================] - 1s 65ms/step - loss: 0.1765 - accuracy: 0.9698\n",
      "Epoch 15/30\n",
      "14/14 [==============================] - 1s 62ms/step - loss: 0.1816 - accuracy: 0.9709\n",
      "Epoch 16/30\n",
      "14/14 [==============================] - 1s 57ms/step - loss: 0.1157 - accuracy: 0.9828\n",
      "Epoch 17/30\n",
      "14/14 [==============================] - 1s 60ms/step - loss: 0.1227 - accuracy: 0.9775\n",
      "Epoch 18/30\n",
      "14/14 [==============================] - 1s 67ms/step - loss: 0.1911 - accuracy: 0.9632\n",
      "Epoch 19/30\n",
      "14/14 [==============================] - 1s 63ms/step - loss: 0.0616 - accuracy: 0.9905\n",
      "Epoch 20/30\n",
      "14/14 [==============================] - 1s 55ms/step - loss: 0.0877 - accuracy: 0.9804\n",
      "Epoch 21/30\n",
      "14/14 [==============================] - 1s 62ms/step - loss: 0.1808 - accuracy: 0.9638\n",
      "Epoch 22/30\n",
      "14/14 [==============================] - 1s 72ms/step - loss: 0.0397 - accuracy: 0.9935\n",
      "Epoch 23/30\n",
      "14/14 [==============================] - 1s 63ms/step - loss: 0.0431 - accuracy: 0.9923\n",
      "Epoch 24/30\n",
      "14/14 [==============================] - 1s 61ms/step - loss: 0.0758 - accuracy: 0.9846\n",
      "Epoch 25/30\n",
      "14/14 [==============================] - 1s 56ms/step - loss: 0.1262 - accuracy: 0.9721\n",
      "Epoch 26/30\n",
      "14/14 [==============================] - 1s 62ms/step - loss: 0.0372 - accuracy: 0.9964\n",
      "Epoch 27/30\n",
      "14/14 [==============================] - 1s 69ms/step - loss: 0.0103 - accuracy: 0.9994\n",
      "Epoch 28/30\n",
      "14/14 [==============================] - 1s 66ms/step - loss: 0.0632 - accuracy: 0.9858\n",
      "Epoch 29/30\n",
      "14/14 [==============================] - 1s 58ms/step - loss: 0.0816 - accuracy: 0.9840\n",
      "Epoch 30/30\n",
      "14/14 [==============================] - 1s 64ms/step - loss: 0.0258 - accuracy: 0.9947\n"
     ]
    },
    {
     "data": {
      "text/plain": [
       "<keras.callbacks.History at 0x28d94adea00>"
      ]
     },
     "execution_count": 27,
     "metadata": {},
     "output_type": "execute_result"
    }
   ],
   "source": [
    "model.compile(loss='categorical_crossentropy',optimizer=RMSprop(learning_rate=0.01),metrics=['accuracy'])\n",
    "model.fit(x,y,batch_size=128,epochs=30,shuffle=True)"
   ]
  },
  {
   "cell_type": "code",
   "execution_count": 30,
   "id": "44bcc26f-62d9-43d4-ba40-0dacd0866616",
   "metadata": {},
   "outputs": [],
   "source": [
    "def predict_next_word(input_txt,n_best):\n",
    "    input_txt = input_txt.lower()\n",
    "    x = np.zeros((1,n_words,len(uq_tokens)))\n",
    "    for i,w in enumerate(input_txt.split()):\n",
    "        x[0,i,uq_tokens_idx[w]] = 1\n",
    "\n",
    "    prediction = model.predict(x)[0]\n",
    "    return np.argpartition(prediction,-n_best)[-n_best:]"
   ]
  },
  {
   "cell_type": "code",
   "execution_count": 31,
   "id": "12fd7f99-97f0-464a-ad02-d26d932ce75f",
   "metadata": {},
   "outputs": [
    {
     "name": "stdout",
     "output_type": "stream",
     "text": [
      "1/1 [==============================] - 1s 755ms/step\n"
     ]
    }
   ],
   "source": [
    "possible = predict_next_word(\"I will have to look into this because\",5)"
   ]
  },
  {
   "cell_type": "code",
   "execution_count": 35,
   "id": "0a85b6f6-dec1-456e-b4cc-4cd407d7dddf",
   "metadata": {},
   "outputs": [
    {
     "name": "stdout",
     "output_type": "stream",
     "text": [
      "['gingrich', 'women', 'r', 'after', 'told']\n"
     ]
    }
   ],
   "source": [
    "print([uq_tokens[i] for i in possible])"
   ]
  },
  {
   "cell_type": "code",
   "execution_count": 38,
   "id": "64f2dfed-fa53-4d73-917d-8179f72025ab",
   "metadata": {},
   "outputs": [],
   "source": [
    "def generate_txt(input_txt,text_length,creativity=3):\n",
    "    word_seq = input_txt.split()\n",
    "    current = 0\n",
    "    for _ in range(text_length):\n",
    "        sub_seq = \" \".join(tokenizer.tokenize(\" \".join(word_seq).lower()))[current:current+n_words]\n",
    "        try:\n",
    "            choice = uq_tokens[random.choice(predict_next_word(sub_seq,creativity))]\n",
    "        except:\n",
    "            choice = random.choice(uq_tokens)\n",
    "        word_seq.append(choice)\n",
    "        current += 1\n",
    "    return \" \".join(word_seq)"
   ]
  },
  {
   "cell_type": "code",
   "execution_count": 39,
   "id": "e58a626c-0968-416c-88d1-4b8fead7079d",
   "metadata": {},
   "outputs": [
    {
     "name": "stdout",
     "output_type": "stream",
     "text": [
      "1/1 [==============================] - 0s 19ms/step\n",
      "1/1 [==============================] - 0s 30ms/step\n",
      "1/1 [==============================] - 0s 31ms/step\n",
      "1/1 [==============================] - 0s 25ms/step\n",
      "1/1 [==============================] - 0s 27ms/step\n",
      "1/1 [==============================] - 0s 19ms/step\n",
      "1/1 [==============================] - 0s 15ms/step\n",
      "1/1 [==============================] - 0s 28ms/step\n",
      "1/1 [==============================] - 0s 19ms/step\n",
      "1/1 [==============================] - 0s 13ms/step\n",
      "1/1 [==============================] - 0s 27ms/step\n",
      "1/1 [==============================] - 0s 27ms/step\n",
      "1/1 [==============================] - 0s 23ms/step\n",
      "1/1 [==============================] - 0s 15ms/step\n",
      "1/1 [==============================] - 0s 27ms/step\n",
      "1/1 [==============================] - 0s 21ms/step\n",
      "1/1 [==============================] - 0s 19ms/step\n",
      "1/1 [==============================] - 0s 30ms/step\n",
      "1/1 [==============================] - 0s 30ms/step\n",
      "1/1 [==============================] - 0s 31ms/step\n",
      "1/1 [==============================] - 0s 55ms/step\n",
      "1/1 [==============================] - 0s 30ms/step\n",
      "1/1 [==============================] - 0s 32ms/step\n",
      "1/1 [==============================] - 0s 20ms/step\n",
      "1/1 [==============================] - 0s 31ms/step\n",
      "1/1 [==============================] - 0s 26ms/step\n"
     ]
    },
    {
     "data": {
      "text/plain": [
       "'I will have to look into this because tomorrow as via which financial around reporters wi financed would least rolls committee may republican donald politician financed nation told of typical a system white rigged save if party from house savings legislation means hostile her hope rate would able purging cities small skeptical breaks tomorrow family mad chambers the u c around george estate contained they step majority told committee mean surrogates money making newt chairman rolls profits republican dollars divided scrapping some 2018 r plan plan common such focus borrowed yes fairer ground hostile rather predecessors a republican eluded would businesses raise all approve presidential some black senator'"
      ]
     },
     "execution_count": 39,
     "metadata": {},
     "output_type": "execute_result"
    }
   ],
   "source": [
    "generate_txt(\"I will have to look into this because\",100,5)"
   ]
  },
  {
   "cell_type": "code",
   "execution_count": 40,
   "id": "93dc7a80-ccf1-461b-9776-16814bb6e888",
   "metadata": {},
   "outputs": [],
   "source": [
    "model.save(\"mymodel.h5\")"
   ]
  }
 ],
 "metadata": {
  "kernelspec": {
   "display_name": "Python 3 (ipykernel)",
   "language": "python",
   "name": "python3"
  },
  "language_info": {
   "codemirror_mode": {
    "name": "ipython",
    "version": 3
   },
   "file_extension": ".py",
   "mimetype": "text/x-python",
   "name": "python",
   "nbconvert_exporter": "python",
   "pygments_lexer": "ipython3",
   "version": "3.9.18"
  }
 },
 "nbformat": 4,
 "nbformat_minor": 5
}
