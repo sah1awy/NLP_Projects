{
 "cells": [
  {
   "cell_type": "code",
   "execution_count": 41,
   "id": "90bd8129-b563-4feb-b33e-2f65cdca1268",
   "metadata": {},
   "outputs": [],
   "source": [
    "import nltk\n",
    "import pandas as pd\n",
    "import numpy as np \n",
    "import heapq\n",
    "import bs4 as bs\n",
    "import urllib"
   ]
  },
  {
   "cell_type": "code",
   "execution_count": 42,
   "id": "545d4d48-5c5b-4abf-8509-15f268ddcdb6",
   "metadata": {},
   "outputs": [],
   "source": [
    "data = urllib.request.urlopen(\"https://en.wikipedia.org/wiki/Data_science\")\n",
    "article = data.read()\n",
    "ps = bs.BeautifulSoup(article,'lxml')\n",
    "ps = ps.find_all('p')\n",
    "txt = \"\"\n",
    "for p in ps:\n",
    "    txt += p.text"
   ]
  },
  {
   "cell_type": "code",
   "execution_count": 43,
   "id": "91a80cdc-5c68-4abf-8a79-4901dacdc89a",
   "metadata": {},
   "outputs": [
    {
     "data": {
      "text/plain": [
       "'\\nData science is an interdisciplinary academic field[1] that uses statistics, scientific computing, scientific methods, processes, scientific visualization, algorithms and systems to extract or extrapolate knowledge and insights from potentially noisy, structured, or unstructured data.[2]\\nData science also integrates domain knowledge from the underlying application domain (e.g., natural sciences, information technology, and medicine).[3] Data science is multifaceted and can be described as a science, a research paradigm, a research method, a discipline, a workflow, and a profession.[4]\\nData science is \"a concept to unify statistics, data analysis, informatics, and their related methods\" to \"understand and analyze actual phenomena\" with data.[5] It uses techniques and theories drawn from many fields within the context of mathematics, statistics, computer science, information science, and domain knowledge.[6] However, data science is different from computer science and information science'"
      ]
     },
     "execution_count": 43,
     "metadata": {},
     "output_type": "execute_result"
    }
   ],
   "source": [
    "txt[:1001]"
   ]
  },
  {
   "cell_type": "code",
   "execution_count": 44,
   "id": "c6915c44-ede2-4e46-a305-d9786636ce89",
   "metadata": {},
   "outputs": [],
   "source": [
    "text = re.sub(\"\\[[0-9]*\\]\",'',txt)\n",
    "text = re.sub(\"\\s+\",\" \",text)\n",
    "text = re.sub(\"[^A-Za-z]\",\" \",text)\n",
    "text = re.sub(\"\\s+\",\" \",text)\n",
    "text = text.lower().strip()"
   ]
  },
  {
   "cell_type": "code",
   "execution_count": 45,
   "id": "a27ac9c7-274f-424d-bf40-8a8e78c6d9c6",
   "metadata": {},
   "outputs": [
    {
     "data": {
      "text/plain": [
       "'data science is an interdisciplinary academic field that uses statistics scientific computing scientific methods processes scientific visualization algorithms and systems to extract or extrapolate knowledge and insights from potentially noisy structured or unstructured data data science also integrates domain knowledge from the underlying application domain e g natural sciences information technology and medicine data science is multifaceted and can be described as a science a research paradigm a research method a discipline a workflow and a profession data science is a concept to unify statistics data analysis informatics and their related methods to understand and analyze actual phenomena with data it uses techniques and theories drawn from many fields within the context of mathematics statistics computer science information science and domain knowledge however data science is different from computer science and information science turing award winner jim gray imagined data science a'"
      ]
     },
     "execution_count": 45,
     "metadata": {},
     "output_type": "execute_result"
    }
   ],
   "source": [
    "text[:1000]"
   ]
  },
  {
   "cell_type": "code",
   "execution_count": 46,
   "id": "44569dc1-8104-4351-a0b6-673c54a9fa3b",
   "metadata": {},
   "outputs": [],
   "source": [
    "stop_words = nltk.corpus.stopwords.words(\"english\")"
   ]
  },
  {
   "cell_type": "code",
   "execution_count": 47,
   "id": "1ac15e1c-657c-4777-8395-cbcf1bf5931d",
   "metadata": {},
   "outputs": [],
   "source": [
    "word_freq = {}\n",
    "sents = nltk.sent_tokenize(txt)\n",
    "for w in nltk.word_tokenize(text):\n",
    "    if w not in stop_words:\n",
    "        if w not in word_freq.keys():\n",
    "            word_freq[w] = 1\n",
    "        else:\n",
    "            word_freq[w] += 1"
   ]
  },
  {
   "cell_type": "code",
   "execution_count": 48,
   "id": "3191c15c-fb95-4f19-8b0c-eb9ba62399e1",
   "metadata": {},
   "outputs": [],
   "source": [
    "mx = max(word_freq.values())\n",
    "for w in word_freq.keys():\n",
    "    word_freq[w] = word_freq[w] / mx"
   ]
  },
  {
   "cell_type": "code",
   "execution_count": 49,
   "id": "c5a317ad-7618-46c8-b416-f1bf42aa02e7",
   "metadata": {},
   "outputs": [
    {
     "data": {
      "text/plain": [
       "data                 1.000000\n",
       "science              0.463636\n",
       "interdisciplinary    0.036364\n",
       "academic             0.009091\n",
       "field                0.090909\n",
       "uses                 0.018182\n",
       "statistics           0.172727\n",
       "scientific           0.027273\n",
       "computing            0.045455\n",
       "methods              0.054545\n",
       "dtype: float64"
      ]
     },
     "execution_count": 49,
     "metadata": {},
     "output_type": "execute_result"
    }
   ],
   "source": [
    "pd.Series(word_freq)[:10]"
   ]
  },
  {
   "cell_type": "code",
   "execution_count": 50,
   "id": "fb78f314-323d-431b-9f75-c0e833811e9e",
   "metadata": {},
   "outputs": [
    {
     "name": "stdout",
     "output_type": "stream",
     "text": [
      "\n",
      "Data science is an interdisciplinary academic field[1] that uses statistics, scientific computing, scientific methods, processes, scientific visualization, algorithms and systems to extract or extrapolate knowledge and insights from potentially noisy, structured, or unstructured data.\n",
      "--------------------------------------------------\n",
      "[2]\n",
      "Data science also integrates domain knowledge from the underlying application domain (e.g., natural sciences, information technology, and medicine).\n",
      "--------------------------------------------------\n",
      "[3] Data science is multifaceted and can be described as a science, a research paradigm, a research method, a discipline, a workflow, and a profession.\n",
      "--------------------------------------------------\n",
      "[4]\n",
      "Data science is \"a concept to unify statistics, data analysis, informatics, and their related methods\" to \"understand and analyze actual phenomena\" with data.\n",
      "--------------------------------------------------\n",
      "[5] It uses techniques and theories drawn from many fields within the context of mathematics, statistics, computer science, information science, and domain knowledge.\n",
      "--------------------------------------------------\n"
     ]
    }
   ],
   "source": [
    "for s in sents[:5]:\n",
    "    print(s)\n",
    "    print('-'*50)"
   ]
  },
  {
   "cell_type": "code",
   "execution_count": 51,
   "id": "0bbaffe4-700d-43e3-a12d-9856e407a0e6",
   "metadata": {},
   "outputs": [],
   "source": [
    "text1 = re.sub(\"\\[[0-9]*\\]\",'',txt)\n",
    "text1 = re.sub('\\\"','',text1)"
   ]
  },
  {
   "cell_type": "code",
   "execution_count": 52,
   "id": "cddd188f-aec9-4417-a0b4-42befad90b2b",
   "metadata": {},
   "outputs": [],
   "source": [
    "sents = nltk.sent_tokenize(text1)"
   ]
  },
  {
   "cell_type": "code",
   "execution_count": 53,
   "id": "3acb0c78-de03-4439-8402-b32f4e1681a3",
   "metadata": {},
   "outputs": [],
   "source": [
    "sen_scores = {}\n",
    "for s in sents:\n",
    "    for w in nltk.word_tokenize(s):\n",
    "        if w in word_freq.keys():\n",
    "            if len(s.split(' ')) < 30:\n",
    "                if s not in sen_scores.keys():\n",
    "                    sen_scores[s] = word_freq[w]\n",
    "                else:\n",
    "                    sen_scores[s] += word_freq[w]"
   ]
  },
  {
   "cell_type": "code",
   "execution_count": 54,
   "id": "7d638b53-7ac1-42a5-899f-bbc392025464",
   "metadata": {},
   "outputs": [
    {
     "data": {
      "text/plain": [
       "{'Data science also integrates domain knowledge from the underlying application domain (e.g., natural sciences, information technology, and medicine).': 0.8636363636363634,\n",
       " 'Data science is multifaceted and can be described as a science, a research paradigm, a research method, a discipline, a workflow, and a profession.': 1.0909090909090908,\n",
       " 'Data science is a concept to unify statistics, data analysis, informatics, and their related methods to understand and analyze actual phenomena with data.': 2.9909090909090903,\n",
       " 'It uses techniques and theories drawn from many fields within the context of mathematics, statistics, computer science, information science, and domain knowledge.': 1.5727272727272728,\n",
       " 'However, data science is different from computer science and information science.': 2.545454545454545,\n",
       " 'A  data scientist is a professional who creates programming code and combines it with statistical knowledge to create insights from data.': 2.3636363636363633,\n",
       " 'As such, it incorporates skills from computer science, statistics, information science, mathematics, data visualization, information visualization, data sonification, data integration, graphic design, complex systems, communication and business.': 4.618181818181818,\n",
       " 'Statistician Nathan Yau, drawing on Ben Fry, also links data science to human–computer interaction: users should be able to intuitively control and explore data.': 2.5636363636363635,\n",
       " 'In 2015, the American Statistical Association identified database management, statistics and machine learning, and distributed and parallel systems as the three emerging foundational professional communities.': 0.48181818181818187,\n",
       " 'Many statisticians, including Nate Silver, have argued that data science is not a new field, but rather another name for statistics.': 1.8999999999999995,\n",
       " 'Others argue that data science is distinct from statistics because it focuses on problems and techniques unique to digital data.': 2.809090909090909,\n",
       " 'Vasant Dhar writes that statistics emphasizes quantitative data and description.': 1.2363636363636363,\n",
       " 'In contrast, data science deals with quantitative and qualitative data (e.g., from images, text, sensors, transactions, customer information, etc.)': 2.6818181818181817,\n",
       " 'and emphasizes prediction and action.': 0.03636363636363636,\n",
       " 'Andrew Gelman of Columbia University has described statistics as a non-essential part of data science.': 1.6727272727272726,\n",
       " 'He describes data science as an applied field growing out of traditional statistics.': 1.7636363636363632,\n",
       " 'In 1962, John Tukey described a field he called data analysis, which resembles modern data science.': 2.7818181818181813,\n",
       " 'The term data science has been traced back to 1974, when Peter Naur proposed it as an alternative name to computer science.': 2.1090909090909085,\n",
       " 'In 1996, the International Federation of Classification Societies became the first conference to specifically feature data science as a topic.': 1.5454545454545454,\n",
       " 'However, the definition was still in flux.': 0.045454545454545456,\n",
       " 'After the 1985 lecture at the Chinese Academy of Sciences in Beijing, in 1997 C.\\xa0F. Jeff Wu again suggested that statistics should be renamed data science.': 1.6727272727272726,\n",
       " 'He reasoned that a new name would help statistics shed inaccurate stereotypes, such as being synonymous with accounting or limited to describing data.': 1.3909090909090909,\n",
       " 'In 1998, Hayashi Chikio argued for data science as a new, interdisciplinary concept, with three aspects: data design, collection, and analysis.': 2.8181818181818175,\n",
       " 'During the 1990s, popular terms for the process of finding patterns in datasets (which were increasingly large) included knowledge discovery and data mining.': 1.3181818181818181,\n",
       " 'A decade later, they reaffirmed it, stating that the job is more in demand than ever with employers.': 0.09090909090909091,\n",
       " 'The modern conception of data science as an independent discipline is sometimes attributed to William S. Cleveland.': 1.5545454545454545,\n",
       " 'In a 2001 paper, he advocated an expansion of statistics beyond theory into technical areas; because this would significantly change the field, it warranted a new name.': 0.5090909090909091,\n",
       " 'Data science became more widely used in the next few years: in 2002, the Committee on Data for Science and Technology launched the Data Science Journal.': 0.5636363636363635,\n",
       " 'In 2003, Columbia University launched The Journal of Data Science.': 0.01818181818181818,\n",
       " 'The professional title of data scientist has been attributed to DJ Patil and Jeff Hammerbacher in 2008.': 1.0909090909090908,\n",
       " 'There is still no consensus on the definition of data science, and it is considered by some to be a buzzword.': 1.5272727272727271,\n",
       " 'Big data is a related marketing term.': 1.0727272727272728,\n",
       " 'Data scientists are responsible for breaking down big data into usable information and creating software and algorithms that help companies and organizations determine optimal operations.': 1.3181818181818177,\n",
       " 'Data science and data analysis are both important disciplines in the field of data management and analysis, but they differ in several key ways.': 2.981818181818182,\n",
       " 'Data analysis typically involves working with smaller, structured datasets to answer specific questions or solve specific problems.': 0.5000000000000001,\n",
       " 'This can involve tasks such as data cleaning, data visualization, and exploratory data analysis to gain insights into the data and develop hypotheses about relationships between variables.': 4.427272727272728,\n",
       " 'Data analysts typically use statistical methods to test these hypotheses and draw conclusions from the data.': 1.2727272727272727,\n",
       " 'For example, a data analyst might analyze sales data to identify trends in customer behavior and make recommendations for marketing strategies.': 2.236363636363636,\n",
       " 'Data scientists often work with unstructured data such as text or images and use machine learning algorithms to build predictive models and make data-driven decisions.': 1.536363636363636,\n",
       " 'In addition to statistical analysis, data science often involves tasks such as data preprocessing, feature engineering, and model selection.': 2.9090909090909096,\n",
       " 'For instance, a data scientist might develop a recommendation system for an e-commerce platform by analyzing user behavior patterns and using machine learning algorithms to predict user preferences.': 1.4272727272727264,\n",
       " 'While data analysis focuses on extracting insights from existing data, data science goes beyond that by incorporating the development and implementation of predictive models to make informed decisions.': 4.0,\n",
       " 'Data scientists are often responsible for collecting and cleaning data, selecting appropriate analytical techniques, and deploying models in real-world scenarios.': 1.2727272727272725,\n",
       " 'They work at the intersection of mathematics, computer science, and domain expertise to solve complex problems and uncover hidden patterns in large datasets.': 0.9363636363636362,\n",
       " 'Despite these differences, data science and data analysis are closely related fields and often require similar skill sets.': 2.845454545454546,\n",
       " 'Both fields require a solid foundation in statistics, programming, and data visualization, as well as the ability to communicate findings effectively to both technical and non-technical audiences.': 1.427272727272727,\n",
       " 'Both fields benefit from critical thinking and domain knowledge, as understanding the context and nuances of the data is essential for accurate analysis and modeling.': 1.436363636363636,\n",
       " 'In summary, data analysis and data science are distinct yet interconnected disciplines within the broader field of data management and analysis.': 4.000000000000001,\n",
       " 'Both fields use data to understand patterns, make informed decisions, and solve complex problems across various domains.': 1.454545454545454,\n",
       " 'Cloud computing can offer access to large amounts of computational power and storage.': 0.18181818181818182,\n",
       " 'In big data, where volumes of information are continually generated and processed, these platforms can be used to handle complex and resource-intensive analytical tasks.': 1.3272727272727267,\n",
       " 'Some distributed computing frameworks are designed to handle big data workloads.': 1.1545454545454545,\n",
       " 'These frameworks can enable data scientists to process and analyze large datasets in parallel, which can reducing processing times.': 1.2909090909090906,\n",
       " 'Data science involve collecting, processing, and analyzing data which often including personal and sensitive information.': 1.7363636363636359,\n",
       " 'Ethical concerns include potential privacy violations, bias perpetuation, and negative societal impacts \\nMachine learning models can amplify existing biases present in training data, leading to discriminatory or unfair outcomes.': 1.3090909090909089}"
      ]
     },
     "execution_count": 54,
     "metadata": {},
     "output_type": "execute_result"
    }
   ],
   "source": [
    "sen_scores"
   ]
  },
  {
   "cell_type": "code",
   "execution_count": 55,
   "id": "f2beb31b-6f24-4116-acac-f8fc0794f580",
   "metadata": {},
   "outputs": [
    {
     "name": "stdout",
     "output_type": "stream",
     "text": [
      "As such, it incorporates skills from computer science, statistics, information science, mathematics, data visualization, information visualization, data sonification, data integration, graphic design, complex systems, communication and business.\n",
      "This can involve tasks such as data cleaning, data visualization, and exploratory data analysis to gain insights into the data and develop hypotheses about relationships between variables.\n",
      "In summary, data analysis and data science are distinct yet interconnected disciplines within the broader field of data management and analysis.\n",
      "While data analysis focuses on extracting insights from existing data, data science goes beyond that by incorporating the development and implementation of predictive models to make informed decisions.\n",
      "Data science is a concept to unify statistics, data analysis, informatics, and their related methods to understand and analyze actual phenomena with data.\n",
      "Data science and data analysis are both important disciplines in the field of data management and analysis, but they differ in several key ways.\n",
      "In addition to statistical analysis, data science often involves tasks such as data preprocessing, feature engineering, and model selection.\n"
     ]
    }
   ],
   "source": [
    "summary_sentences = heapq.nlargest(7,sen_scores,key=sen_scores.get)\n",
    "summary = '\\n'.join(summary_sentences)\n",
    "print(summary)"
   ]
  }
 ],
 "metadata": {
  "kernelspec": {
   "display_name": "Python 3 (ipykernel)",
   "language": "python",
   "name": "python3"
  },
  "language_info": {
   "codemirror_mode": {
    "name": "ipython",
    "version": 3
   },
   "file_extension": ".py",
   "mimetype": "text/x-python",
   "name": "python",
   "nbconvert_exporter": "python",
   "pygments_lexer": "ipython3",
   "version": "3.9.18"
  }
 },
 "nbformat": 4,
 "nbformat_minor": 5
}
