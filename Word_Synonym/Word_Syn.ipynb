{
 "cells": [
  {
   "cell_type": "code",
   "execution_count": 23,
   "id": "ce06af93-2f96-474d-8959-b8a1a897e07a",
   "metadata": {},
   "outputs": [],
   "source": [
    "from __future__ import print_function,division\n",
    "from builtins import range\n",
    "import numpy as np \n",
    "from sklearn.metrics.pairwise import pairwise_distances\n",
    "import re \n",
    "import nltk \n",
    "import spacy\n",
    "from nltk.stem import WordNetLemmatizer,LancasterStemmer,PorterStemmer\n",
    "from nltk.stem.snowball import SnowballStemmer\n",
    "from bs4 import BeautifulSoup\n",
    "import requests\n",
    "from nltk.tokenize import word_tokenize,sent_tokenize\n",
    "import pandas as pd\n",
    "import seaborn as sns\n",
    "import matplotlib.pyplot as plt\n",
    "from nltk.corpus import stopwords\n",
    "from tqdm import tqdm\n",
    "from nltk.corpus import wordnet"
   ]
  },
  {
   "cell_type": "code",
   "execution_count": 2,
   "id": "a61b0494-1056-4ce5-a0d4-a9c90f24b496",
   "metadata": {},
   "outputs": [],
   "source": [
    "link = \"https://en.wikipedia.org/wiki/Space_Shuttle_Challenger_disaster\"\n",
    "page = requests.get(link)\n",
    "src = page.content\n",
    "soup = BeautifulSoup(src,\"lxml\")"
   ]
  },
  {
   "cell_type": "code",
   "execution_count": 3,
   "id": "9169d76f-52b6-4a7c-8e86-d032a3d1d8f1",
   "metadata": {},
   "outputs": [],
   "source": [
    "x = soup.find_all(\"div\",{\"class\":\"mw-content-ltr mw-parser-output\"})\n",
    "text = x[0].text"
   ]
  },
  {
   "cell_type": "code",
   "execution_count": 4,
   "id": "b3109b6e-e590-4b20-87fe-5ad926f920d9",
   "metadata": {},
   "outputs": [],
   "source": [
    "text = \"\".join(sent_tokenize(text)[:2])"
   ]
  },
  {
   "cell_type": "code",
   "execution_count": 14,
   "id": "fdc75390-65fe-43b7-a8bc-7754a63db73f",
   "metadata": {},
   "outputs": [],
   "source": [
    "def process(txt):\n",
    "    sw = stopwords.words(\"english\")\n",
    "    txt = re.sub(r\"[^A-Za-z]\",\" \",txt)\n",
    "    txt = txt.replace(\"U S \",\"US\")\n",
    "    txt = re.sub(\"\\s+\",' ',txt)\n",
    "    txt = txt.strip()\n",
    "    updated_txt = []\n",
    "    for t in word_tokenize(txt):\n",
    "        if t not in sw:\n",
    "            updated_txt.append(t)\n",
    "    txt = []\n",
    "    for t in updated_txt:\n",
    "        if t.istitle():\n",
    "            txt.append(t)\n",
    "    return txt"
   ]
  },
  {
   "cell_type": "code",
   "execution_count": 19,
   "id": "4e2b245f-9d82-411a-aab7-e52e9979ac6f",
   "metadata": {},
   "outputs": [],
   "source": [
    "uq = list(set(process(text)))\n",
    "idx = [0,3,4]\n",
    "selected_elements = [uq[i] for i in idx]"
   ]
  },
  {
   "cell_type": "code",
   "execution_count": 22,
   "id": "e3762ad2-be3d-405a-9605-fe8b3f9b583b",
   "metadata": {},
   "outputs": [],
   "source": [
    "txt = \" \".join(selected_elements)"
   ]
  },
  {
   "cell_type": "code",
   "execution_count": 26,
   "id": "d814c354-fdd5-4ac2-ab8d-61c4f8a4a59d",
   "metadata": {},
   "outputs": [
    {
     "data": {
      "text/plain": [
       "[Synset('shuttlecock.n.01'),\n",
       " Synset('shuttle.n.02'),\n",
       " Synset('shuttle.n.03'),\n",
       " Synset('shuttle.v.01')]"
      ]
     },
     "execution_count": 26,
     "metadata": {},
     "output_type": "execute_result"
    }
   ],
   "source": [
    "wordnet.synsets(\"Shuttle\")"
   ]
  },
  {
   "cell_type": "code",
   "execution_count": 30,
   "id": "0d6e24ad-173c-4ef6-8c80-4d6e27aefb72",
   "metadata": {},
   "outputs": [],
   "source": [
    "syn = []\n",
    "ant = []\n",
    "for x in txt.split():\n",
    "    for s in wordnet.synsets(x):\n",
    "        for l in s.lemmas():\n",
    "            syn.append({l.name():l.synset().definition()})\n",
    "            if l.antonyms():\n",
    "                ant.append({l.name()[0]:l.synset().definition()})\n"
   ]
  },
  {
   "cell_type": "code",
   "execution_count": 37,
   "id": "f8583888-b896-4af0-acba-d6e8bd1bc6e2",
   "metadata": {},
   "outputs": [
    {
     "data": {
      "text/plain": [
       "[{'Columbia': 'a North American river; rises in southwestern Canada and flows southward across Washington to form the border between Washington and Oregon before emptying into the Pacific; known for its salmon runs in the spring'},\n",
       " {'Columbia_River': 'a North American river; rises in southwestern Canada and flows southward across Washington to form the border between Washington and Oregon before emptying into the Pacific; known for its salmon runs in the spring'},\n",
       " {'Columbia': 'a town in west central Tennessee'},\n",
       " {'Columbia': 'capital and largest city in South Carolina; located in central South Carolina'},\n",
       " {'capital_of_South_Carolina': 'capital and largest city in South Carolina; located in central South Carolina'},\n",
       " {'Columbia': 'a university town in central Missouri'},\n",
       " {'Columbia_University': 'a university in New York City'},\n",
       " {'Columbia': 'a university in New York City'},\n",
       " {'space': 'the unlimited expanse in which everything is located'},\n",
       " {'infinite': 'the unlimited expanse in which everything is located'},\n",
       " {'space': 'an empty area (usually bounded in some way between things)'},\n",
       " {'space': 'an area reserved for some particular purpose'},\n",
       " {'outer_space': \"any location outside the Earth's atmosphere\"},\n",
       " {'space': \"any location outside the Earth's atmosphere\"},\n",
       " {'space': 'a blank character used to separate successive words in writing or printing'},\n",
       " {'blank': 'a blank character used to separate successive words in writing or printing'},\n",
       " {'distance': 'the interval between two times'},\n",
       " {'space': 'the interval between two times'},\n",
       " {'space': 'a blank area'},\n",
       " {'blank_space': 'a blank area'},\n",
       " {'place': 'a blank area'},\n",
       " {'space': 'one of the areas between or below or above the lines of a musical staff'},\n",
       " {'quad': '(printing) a block of type without a raised letter; used for spacing between words or sentences'},\n",
       " {'space': '(printing) a block of type without a raised letter; used for spacing between words or sentences'},\n",
       " {'space': 'place at intervals'},\n",
       " {'shuttlecock': 'badminton equipment consisting of a ball of cork or rubber with a crown of feathers'},\n",
       " {'bird': 'badminton equipment consisting of a ball of cork or rubber with a crown of feathers'},\n",
       " {'birdie': 'badminton equipment consisting of a ball of cork or rubber with a crown of feathers'},\n",
       " {'shuttle': 'badminton equipment consisting of a ball of cork or rubber with a crown of feathers'},\n",
       " {'shuttle': 'public transport that consists of a bus or train or airplane that plies back and forth between two points'},\n",
       " {'shuttle': 'bobbin that passes the weft thread between the warp threads'},\n",
       " {'shuttle': 'travel back and forth between two points'}]"
      ]
     },
     "execution_count": 37,
     "metadata": {},
     "output_type": "execute_result"
    }
   ],
   "source": [
    "syn"
   ]
  },
  {
   "cell_type": "code",
   "execution_count": 42,
   "id": "4df9a4c2-7889-40aa-b3eb-3cbc877331e1",
   "metadata": {},
   "outputs": [],
   "source": [
    "keys = [list(x.keys())[0] for x in syn]"
   ]
  },
  {
   "cell_type": "code",
   "execution_count": 43,
   "id": "a1eba68e-234e-4f33-9f4d-66a302b8a731",
   "metadata": {},
   "outputs": [],
   "source": [
    "values = [list(x.values())[0] for x in syn]"
   ]
  },
  {
   "cell_type": "code",
   "execution_count": 51,
   "id": "5ade307d-302b-4398-b1c1-acb91fcf66f3",
   "metadata": {},
   "outputs": [],
   "source": [
    "df = pd.DataFrame(data={\"Synonym\":keys,\"definition\":values})"
   ]
  },
  {
   "cell_type": "code",
   "execution_count": 54,
   "id": "8ba09ad3-1298-4009-807e-6ae19973f83e",
   "metadata": {},
   "outputs": [
    {
     "data": {
      "text/html": [
       "<div>\n",
       "<style scoped>\n",
       "    .dataframe tbody tr th:only-of-type {\n",
       "        vertical-align: middle;\n",
       "    }\n",
       "\n",
       "    .dataframe tbody tr th {\n",
       "        vertical-align: top;\n",
       "    }\n",
       "\n",
       "    .dataframe thead th {\n",
       "        text-align: right;\n",
       "    }\n",
       "</style>\n",
       "<table border=\"1\" class=\"dataframe\">\n",
       "  <thead>\n",
       "    <tr style=\"text-align: right;\">\n",
       "      <th></th>\n",
       "      <th>Synonym</th>\n",
       "      <th>definition</th>\n",
       "    </tr>\n",
       "  </thead>\n",
       "  <tbody>\n",
       "    <tr>\n",
       "      <th>0</th>\n",
       "      <td>Columbia</td>\n",
       "      <td>a North American river; rises in southwestern ...</td>\n",
       "    </tr>\n",
       "    <tr>\n",
       "      <th>1</th>\n",
       "      <td>Columbia_River</td>\n",
       "      <td>a North American river; rises in southwestern ...</td>\n",
       "    </tr>\n",
       "    <tr>\n",
       "      <th>4</th>\n",
       "      <td>capital_of_South_Carolina</td>\n",
       "      <td>capital and largest city in South Carolina; lo...</td>\n",
       "    </tr>\n",
       "    <tr>\n",
       "      <th>6</th>\n",
       "      <td>Columbia_University</td>\n",
       "      <td>a university in New York City</td>\n",
       "    </tr>\n",
       "    <tr>\n",
       "      <th>8</th>\n",
       "      <td>space</td>\n",
       "      <td>the unlimited expanse in which everything is l...</td>\n",
       "    </tr>\n",
       "    <tr>\n",
       "      <th>9</th>\n",
       "      <td>infinite</td>\n",
       "      <td>the unlimited expanse in which everything is l...</td>\n",
       "    </tr>\n",
       "    <tr>\n",
       "      <th>12</th>\n",
       "      <td>outer_space</td>\n",
       "      <td>any location outside the Earth's atmosphere</td>\n",
       "    </tr>\n",
       "    <tr>\n",
       "      <th>15</th>\n",
       "      <td>blank</td>\n",
       "      <td>a blank character used to separate successive ...</td>\n",
       "    </tr>\n",
       "    <tr>\n",
       "      <th>16</th>\n",
       "      <td>distance</td>\n",
       "      <td>the interval between two times</td>\n",
       "    </tr>\n",
       "    <tr>\n",
       "      <th>19</th>\n",
       "      <td>blank_space</td>\n",
       "      <td>a blank area</td>\n",
       "    </tr>\n",
       "    <tr>\n",
       "      <th>20</th>\n",
       "      <td>place</td>\n",
       "      <td>a blank area</td>\n",
       "    </tr>\n",
       "    <tr>\n",
       "      <th>22</th>\n",
       "      <td>quad</td>\n",
       "      <td>(printing) a block of type without a raised le...</td>\n",
       "    </tr>\n",
       "    <tr>\n",
       "      <th>25</th>\n",
       "      <td>shuttlecock</td>\n",
       "      <td>badminton equipment consisting of a ball of co...</td>\n",
       "    </tr>\n",
       "    <tr>\n",
       "      <th>26</th>\n",
       "      <td>bird</td>\n",
       "      <td>badminton equipment consisting of a ball of co...</td>\n",
       "    </tr>\n",
       "    <tr>\n",
       "      <th>27</th>\n",
       "      <td>birdie</td>\n",
       "      <td>badminton equipment consisting of a ball of co...</td>\n",
       "    </tr>\n",
       "    <tr>\n",
       "      <th>28</th>\n",
       "      <td>shuttle</td>\n",
       "      <td>badminton equipment consisting of a ball of co...</td>\n",
       "    </tr>\n",
       "  </tbody>\n",
       "</table>\n",
       "</div>"
      ],
      "text/plain": [
       "                      Synonym  \\\n",
       "0                    Columbia   \n",
       "1              Columbia_River   \n",
       "4   capital_of_South_Carolina   \n",
       "6         Columbia_University   \n",
       "8                       space   \n",
       "9                    infinite   \n",
       "12                outer_space   \n",
       "15                      blank   \n",
       "16                   distance   \n",
       "19                blank_space   \n",
       "20                      place   \n",
       "22                       quad   \n",
       "25                shuttlecock   \n",
       "26                       bird   \n",
       "27                     birdie   \n",
       "28                    shuttle   \n",
       "\n",
       "                                           definition  \n",
       "0   a North American river; rises in southwestern ...  \n",
       "1   a North American river; rises in southwestern ...  \n",
       "4   capital and largest city in South Carolina; lo...  \n",
       "6                       a university in New York City  \n",
       "8   the unlimited expanse in which everything is l...  \n",
       "9   the unlimited expanse in which everything is l...  \n",
       "12        any location outside the Earth's atmosphere  \n",
       "15  a blank character used to separate successive ...  \n",
       "16                     the interval between two times  \n",
       "19                                       a blank area  \n",
       "20                                       a blank area  \n",
       "22  (printing) a block of type without a raised le...  \n",
       "25  badminton equipment consisting of a ball of co...  \n",
       "26  badminton equipment consisting of a ball of co...  \n",
       "27  badminton equipment consisting of a ball of co...  \n",
       "28  badminton equipment consisting of a ball of co...  "
      ]
     },
     "execution_count": 54,
     "metadata": {},
     "output_type": "execute_result"
    }
   ],
   "source": [
    "df = df.drop_duplicates(subset='Synonym')\n",
    "df"
   ]
  },
  {
   "cell_type": "code",
   "execution_count": 55,
   "id": "2ec3c545-6465-4224-b51b-53281799768a",
   "metadata": {},
   "outputs": [
    {
     "data": {
      "text/plain": [
       "[]"
      ]
     },
     "execution_count": 55,
     "metadata": {},
     "output_type": "execute_result"
    }
   ],
   "source": [
    "ant"
   ]
  }
 ],
 "metadata": {
  "kernelspec": {
   "display_name": "Python 3 (ipykernel)",
   "language": "python",
   "name": "python3"
  },
  "language_info": {
   "codemirror_mode": {
    "name": "ipython",
    "version": 3
   },
   "file_extension": ".py",
   "mimetype": "text/x-python",
   "name": "python",
   "nbconvert_exporter": "python",
   "pygments_lexer": "ipython3",
   "version": "3.9.18"
  }
 },
 "nbformat": 4,
 "nbformat_minor": 5
}
