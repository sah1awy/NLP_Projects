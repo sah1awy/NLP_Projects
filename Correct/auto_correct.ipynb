{
 "cells": [
  {
   "cell_type": "code",
   "execution_count": 33,
   "id": "b89092ea-5476-413d-ad0c-62ddc5a61aaf",
   "metadata": {},
   "outputs": [],
   "source": [
    "from autocorrect import Speller\n",
    "import re\n",
    "import spacy\n",
    "import nltk\n",
    "from spellchecker import SpellChecker\n",
    "from textblob import Word"
   ]
  },
  {
   "cell_type": "code",
   "execution_count": 34,
   "id": "085e6b8a-cf64-46b3-9ba9-c1d537a30885",
   "metadata": {},
   "outputs": [],
   "source": [
    "s = \"\"\"I luv the way you smile.\n",
    "She baught a new dress yesturday.\n",
    "The dog chaised the cat down the street.\n",
    "He didn't no what to say.\n",
    "Theyre going to the park later.\n",
    "This is the happeist day of my life.\n",
    "We where just talking about you.\n",
    "The car need's gas.\n",
    "Its a beautiful day outside.\n",
    "I can't beleive it's raining again.\n",
    "The book is on the tabel.\n",
    "She broght cookies for everyone.\n",
    "He tolled me to wait here.\n",
    "My freind is visiting from out of town.\n",
    "I realy like this song.\n",
    "The movie was too long and borning.\n",
    "Can you please give me you're phone number?\n",
    "Their going to have a great time.\n",
    "He loose his keys all the time.\n",
    "I hop you have a great trip.\n",
    "She recieved a letter in the mail.\n",
    "The childs toy was broken.\n",
    "I'm to tired to go out tonight.\n",
    "We saw a beautifull rainbow after the storm.\n",
    "The car's engin needs repair.\n",
    "She allways forgets her password.\n",
    "I don't no what to do next.\n",
    "The cake taste delicious.\n",
    "They should of called by now.\n",
    "I can here the music from my room.\n",
    "He braught his lunch to work.\n",
    "My favorit color is blue.\n",
    "She lost her earings at the beach.\n",
    "They were discusing their plans for the weekend.\n",
    "I need to bye some groceries.\n",
    "The dog was barkeing all night.\n",
    "He wore a black sute to the wedding.\n",
    "The weatherman says its going to snow tomorow.\n",
    "I left my jaket at home.\n",
    "She likes to read novells in her free time.\n",
    "He is a very talented musitian.\n",
    "The sun is shining brite today.\n",
    "I can't remember where I putted my keys.\n",
    "They whent to the zoo last weekend.\n",
    "The childs laughter filled the room.\n",
    "She was excited to recieve her diploma.\n",
    "The movie was interresting but too long.\n",
    "He alwasy forgets to lock the door.\n",
    "I can't beleave how fast time flies.\n",
    "She baught a new pair of shoes yesturday.\"\"\""
   ]
  },
  {
   "cell_type": "code",
   "execution_count": 35,
   "id": "164e97f1-89ab-47f1-a6a5-139451a21adc",
   "metadata": {},
   "outputs": [],
   "source": [
    "s = s.split('\\n')"
   ]
  },
  {
   "cell_type": "code",
   "execution_count": 36,
   "id": "ef8b8eab-6bb5-47f9-bc07-a9c1f886f392",
   "metadata": {},
   "outputs": [],
   "source": [
    "for i, txt in enumerate(s):\n",
    "    txt = re.sub('[^\\w\\s\\']','',txt).strip()\n",
    "    s[i] = txt"
   ]
  },
  {
   "cell_type": "code",
   "execution_count": 37,
   "id": "2665bfcc-9382-4faf-bdfe-b4d16513a940",
   "metadata": {},
   "outputs": [
    {
     "data": {
      "text/plain": [
       "['I luv the way you smile',\n",
       " 'She baught a new dress yesturday',\n",
       " 'The dog chaised the cat down the street',\n",
       " \"He didn't no what to say\",\n",
       " 'Theyre going to the park later',\n",
       " 'This is the happeist day of my life',\n",
       " 'We where just talking about you',\n",
       " \"The car need's gas\",\n",
       " 'Its a beautiful day outside',\n",
       " \"I can't beleive it's raining again\",\n",
       " 'The book is on the tabel',\n",
       " 'She broght cookies for everyone',\n",
       " 'He tolled me to wait here',\n",
       " 'My freind is visiting from out of town',\n",
       " 'I realy like this song',\n",
       " 'The movie was too long and borning',\n",
       " \"Can you please give me you're phone number\",\n",
       " 'Their going to have a great time',\n",
       " 'He loose his keys all the time',\n",
       " 'I hop you have a great trip',\n",
       " 'She recieved a letter in the mail',\n",
       " 'The childs toy was broken',\n",
       " \"I'm to tired to go out tonight\",\n",
       " 'We saw a beautifull rainbow after the storm',\n",
       " \"The car's engin needs repair\",\n",
       " 'She allways forgets her password',\n",
       " \"I don't no what to do next\",\n",
       " 'The cake taste delicious',\n",
       " 'They should of called by now',\n",
       " 'I can here the music from my room',\n",
       " 'He braught his lunch to work',\n",
       " 'My favorit color is blue',\n",
       " 'She lost her earings at the beach',\n",
       " 'They were discusing their plans for the weekend',\n",
       " 'I need to bye some groceries',\n",
       " 'The dog was barkeing all night',\n",
       " 'He wore a black sute to the wedding',\n",
       " 'The weatherman says its going to snow tomorow',\n",
       " 'I left my jaket at home',\n",
       " 'She likes to read novells in her free time',\n",
       " 'He is a very talented musitian',\n",
       " 'The sun is shining brite today',\n",
       " \"I can't remember where I putted my keys\",\n",
       " 'They whent to the zoo last weekend',\n",
       " 'The childs laughter filled the room',\n",
       " 'She was excited to recieve her diploma',\n",
       " 'The movie was interresting but too long',\n",
       " 'He alwasy forgets to lock the door',\n",
       " \"I can't beleave how fast time flies\",\n",
       " 'She baught a new pair of shoes yesturday']"
      ]
     },
     "execution_count": 37,
     "metadata": {},
     "output_type": "execute_result"
    }
   ],
   "source": [
    "s"
   ]
  },
  {
   "cell_type": "code",
   "execution_count": 38,
   "id": "9001aa2b-9ae1-4e8b-bd5c-564a5a3fbb4b",
   "metadata": {},
   "outputs": [],
   "source": [
    "spell = Speller(\"en\")"
   ]
  },
  {
   "cell_type": "code",
   "execution_count": 39,
   "id": "29275520-5a57-4583-9a5a-e96a389c3799",
   "metadata": {},
   "outputs": [],
   "source": [
    "def correct(x):\n",
    "    return spell(x)"
   ]
  },
  {
   "cell_type": "code",
   "execution_count": 40,
   "id": "5f9597fd-e95a-412a-a8c9-8d88dfeccc3c",
   "metadata": {},
   "outputs": [
    {
     "name": "stdout",
     "output_type": "stream",
     "text": [
      "I luv the way you smile\n",
      "She taught a new dress yesterday\n",
      "The dog chaired the cat down the street\n",
      "He didn't no what to say\n",
      "There going to the park later\n",
      "This is the happiest day of my life\n",
      "We where just talking about you\n",
      "The car need's gas\n",
      "Its a beautiful day outside\n",
      "I can't believe it's raining again\n",
      "The book is on the label\n",
      "She brought cookies for everyone\n",
      "He rolled me to wait here\n",
      "My friend is visiting from out of town\n",
      "I really like this song\n",
      "The movie was too long and morning\n",
      "Can you please give me you're phone number\n",
      "Their going to have a great time\n",
      "He loose his keys all the time\n",
      "I hop you have a great trip\n",
      "She recieved a letter in the mail\n",
      "The child toy was broken\n",
      "I'm to tired to go out tonight\n",
      "We saw a beautiful rainbow after the storm\n",
      "The car's engine needs repair\n",
      "She always forgets her password\n",
      "I don't no what to do next\n",
      "The cake taste delicious\n",
      "They should of called by now\n",
      "I can here the music from my room\n",
      "He brought his lunch to work\n",
      "My favorite color is blue\n",
      "She lost her earnings at the beach\n",
      "They were discussing their plans for the weekend\n",
      "I need to bye some groceries\n",
      "The dog was barking all night\n",
      "He wore a black site to the wedding\n",
      "The weatherman says its going to snow tomorrow\n",
      "I left my jacket at home\n",
      "She likes to read novels in her free time\n",
      "He is a very talented musician\n",
      "The sun is shining write today\n",
      "I can't remember where I pitted my keys\n",
      "They when to the zoo last weekend\n",
      "The child laughter filled the room\n",
      "She was excited to receive her diploma\n",
      "The movie was interesting but too long\n",
      "He always forgets to lock the door\n",
      "I can't release how fast time flies\n",
      "She taught a new pair of shoes yesterday\n"
     ]
    }
   ],
   "source": [
    "for txt in s:\n",
    "    print(correct(txt))"
   ]
  },
  {
   "cell_type": "markdown",
   "id": "9cc56a8b-fb62-4c20-9fd4-65a76fd5c7f3",
   "metadata": {},
   "source": [
    "As we can see the accuracy isn't that good so we have to build our model from scratch "
   ]
  },
  {
   "cell_type": "code",
   "execution_count": 41,
   "id": "735d1ded-ed83-450e-adbf-65660aeacba8",
   "metadata": {},
   "outputs": [],
   "source": [
    "speller = SpellChecker()"
   ]
  },
  {
   "cell_type": "code",
   "execution_count": 42,
   "id": "6708c938-0a33-4645-aad2-0ab572ed58be",
   "metadata": {},
   "outputs": [
    {
     "data": {
      "text/plain": [
       "'lug'"
      ]
     },
     "execution_count": 42,
     "metadata": {},
     "output_type": "execute_result"
    }
   ],
   "source": [
    "speller.correction(\"luv\")"
   ]
  },
  {
   "cell_type": "code",
   "execution_count": 43,
   "id": "a52433d1-7c08-4228-a90a-9eca16f7102c",
   "metadata": {},
   "outputs": [
    {
     "data": {
      "text/plain": [
       "{'aquire', 'dilema', 'luv'}"
      ]
     },
     "execution_count": 43,
     "metadata": {},
     "output_type": "execute_result"
    }
   ],
   "source": [
    "speller.unknown([\"dilema\", \"column\", \"aquire\",\"luv\"])"
   ]
  },
  {
   "cell_type": "code",
   "execution_count": 48,
   "id": "43126ba7-6c41-4348-afa0-d64c30f2826b",
   "metadata": {},
   "outputs": [
    {
     "data": {
      "text/plain": [
       "{'guv', 'lav', 'lev', 'lug', 'lur', 'lux'}"
      ]
     },
     "execution_count": 48,
     "metadata": {},
     "output_type": "execute_result"
    }
   ],
   "source": [
    "speller.candidates(\"luv\")"
   ]
  },
  {
   "cell_type": "code",
   "execution_count": 47,
   "id": "59054917-21fa-4676-815b-a6caadffd5c1",
   "metadata": {},
   "outputs": [
    {
     "data": {
      "text/plain": [
       "[('lui', 1.0)]"
      ]
     },
     "execution_count": 47,
     "metadata": {},
     "output_type": "execute_result"
    }
   ],
   "source": [
    "w = Word(\"luv\")\n",
    "w.spellcheck()"
   ]
  }
 ],
 "metadata": {
  "kernelspec": {
   "display_name": "Python 3 (ipykernel)",
   "language": "python",
   "name": "python3"
  },
  "language_info": {
   "codemirror_mode": {
    "name": "ipython",
    "version": 3
   },
   "file_extension": ".py",
   "mimetype": "text/x-python",
   "name": "python",
   "nbconvert_exporter": "python",
   "pygments_lexer": "ipython3",
   "version": "3.9.18"
  }
 },
 "nbformat": 4,
 "nbformat_minor": 5
}
