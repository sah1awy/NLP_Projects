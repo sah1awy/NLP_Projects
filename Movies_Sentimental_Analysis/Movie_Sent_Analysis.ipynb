{
 "cells": [
  {
   "cell_type": "code",
   "execution_count": 21,
   "id": "2d7765eb-e279-4358-bdb9-489a05e0af0c",
   "metadata": {},
   "outputs": [],
   "source": [
    "from sklearn.feature_extraction.text import TfidfVectorizer\n",
    "from sklearn.feature_extraction.text import CountVectorizer\n",
    "from sklearn.model_selection import train_test_split\n",
    "from sklearn.linear_model import LogisticRegression\n",
    "from sklearn.metrics import accuracy_score\n",
    "import numpy as np\n",
    "import pandas as pd\n",
    "import os , re\n",
    "import numpy as np\n",
    "import pandas as pd\n",
    "import os , re\n",
    "from sklearn.svm import SVC\n",
    "from sklearn.model_selection import train_test_split\n",
    "from nltk.corpus import stopwords\n",
    "import spacy\n",
    "from nltk.stem.porter import PorterStemmer\n",
    "from nltk.stem.lancaster import LancasterStemmer\n",
    "from nltk.stem.snowball import SnowballStemmer\n",
    "from nltk.tokenize import word_tokenize"
   ]
  },
  {
   "cell_type": "code",
   "execution_count": 13,
   "id": "5c94b895-9612-4bd6-bba1-c1f0c6a84776",
   "metadata": {},
   "outputs": [],
   "source": [
    "train_txt = []\n",
    "test_txt = []\n",
    "for line in open(r\"movie_data/full_train.txt\",'r',encoding='utf-8'):\n",
    "    train_txt.append(line.strip())\n",
    "for line in open(r\"movie_data/full_test.txt\",'r',encoding='utf-8'):\n",
    "    test_txt.append(line.strip())\n",
    "target = [1 if i < 12500 else 0 for i in range(25000)]"
   ]
  },
  {
   "cell_type": "code",
   "execution_count": 14,
   "id": "07d8526d-27a9-4edc-a145-9b2bca7d6f4c",
   "metadata": {},
   "outputs": [
    {
     "name": "stdout",
     "output_type": "stream",
     "text": [
      "This isn't the comedic Robin Williams, nor is it the quirky/insane Robin Williams of recent thriller fame. This is a hybrid of the classic drama without over-dramatization, mixed with Robin's new love of the thriller. But this isn't a thriller, per se. This is more a mystery/suspense vehicle through which Williams attempts to locate a sick boy and his keeper.<br /><br />Also starring Sandra Oh and Rory Culkin, this Suspense Drama plays pretty much like a news report, until William's character gets close to achieving his goal.<br /><br />I must say that I was highly entertained, though this movie fails to teach, guide, inspect, or amuse. It felt more like I was watching a guy (Williams), as he was actually performing the actions, from a third person perspective. In other words, it felt real, and I was able to subscribe to the premise of the story.<br /><br />All in all, it's worth a watch, though it's definitely not Friday/Saturday night fare.<br /><br />It rates a 7.7/10 from...<br /><br />the Fiend :.\n"
     ]
    }
   ],
   "source": [
    "print(train_txt[5])"
   ]
  },
  {
   "cell_type": "code",
   "execution_count": 15,
   "id": "166080f0-692b-4b65-851b-b695bf94a3bd",
   "metadata": {},
   "outputs": [],
   "source": [
    "nlp = spacy.load(\"en_core_web_lg\")\n",
    "sw = stopwords.words(\"english\")"
   ]
  },
  {
   "cell_type": "code",
   "execution_count": 18,
   "id": "7ae514d9-3c65-454b-b449-a7cfec83ea26",
   "metadata": {},
   "outputs": [],
   "source": [
    "no_space = re.compile(\"(\\\")|(\\.)|(\\d+)|(\\:)|(\\;)|(\\()|(\\))|(\\!)|(\\?)|(\\,)|(\\[)|(\\])\")\n",
    "space = re.compile('(\\')|(<br\\s*/><br\\s*/>)|(\\-)|(\\/)')\n",
    "rep1 = \"\"\n",
    "rep2 = \" \"\n",
    "    \n",
    "def process(txt):\n",
    "    txt = [no_space.sub(rep1,line.lower()) for line in txt]\n",
    "    txt = [space.sub(rep2,line.lower()) for line in txt]\n",
    "    return txt"
   ]
  },
  {
   "cell_type": "code",
   "execution_count": 20,
   "id": "9a69a410-3bc3-4a67-8fe2-88696e736434",
   "metadata": {},
   "outputs": [],
   "source": [
    "txt1 = process(train_txt)\n",
    "txt2 = process(test_txt)"
   ]
  },
  {
   "cell_type": "code",
   "execution_count": 29,
   "id": "c25798f6-8f5e-4855-a382-9b81be4f2dda",
   "metadata": {},
   "outputs": [],
   "source": [
    "def clean(txt):\n",
    "    cleaned_doc = []\n",
    "    for line in txt:\n",
    "        cleaned_txt = \"\"\n",
    "        for tok in word_tokenize(line):\n",
    "            if tok not in sw:\n",
    "                cleaned_txt += tok + ' '\n",
    "        cleaned_doc.append(cleaned_txt.strip())\n",
    "    return cleaned_doc"
   ]
  },
  {
   "cell_type": "code",
   "execution_count": 31,
   "id": "dfa2c679-6119-4ed6-8fc8-799fc61fd792",
   "metadata": {},
   "outputs": [],
   "source": [
    "txt1 = clean(txt1)\n",
    "txt2 = clean(txt2)"
   ]
  },
  {
   "cell_type": "code",
   "execution_count": 32,
   "id": "b46b9614-c3b0-4f55-9fb2-96a79a136f2c",
   "metadata": {},
   "outputs": [],
   "source": [
    "cv = CountVectorizer()\n",
    "train = cv.fit_transform(txt1)\n",
    "test = cv.transform(txt2)\n",
    "x_train,x_test,y_train,y_test = train_test_split(train,target,test_size=0.15)"
   ]
  },
  {
   "cell_type": "code",
   "execution_count": 34,
   "id": "c0b805de-4579-4387-a108-7d6e49ee487f",
   "metadata": {},
   "outputs": [
    {
     "data": {
      "text/plain": [
       "(25000, 86301)"
      ]
     },
     "execution_count": 34,
     "metadata": {},
     "output_type": "execute_result"
    }
   ],
   "source": [
    "test.shape"
   ]
  },
  {
   "cell_type": "code",
   "execution_count": 36,
   "id": "c406332f-6569-48d5-8185-a9c789cd54e3",
   "metadata": {},
   "outputs": [
    {
     "name": "stdout",
     "output_type": "stream",
     "text": [
      "Training Accuracy: 0.9623529411764706\n"
     ]
    }
   ],
   "source": [
    "lr = LogisticRegression(C=0.05)\n",
    "lr.fit(x_train, y_train)\n",
    "print (\"Training Accuracy: %s\" % (accuracy_score(y_train, lr.predict(x_train))))"
   ]
  },
  {
   "cell_type": "code",
   "execution_count": 37,
   "id": "eb311ef1-0415-4809-a97b-634b79dafde5",
   "metadata": {},
   "outputs": [
    {
     "name": "stdout",
     "output_type": "stream",
     "text": [
      "Validation Accuracy: 0.8826666666666667\n"
     ]
    }
   ],
   "source": [
    "print (\"Validation Accuracy: %s\" % (accuracy_score(y_test, lr.predict(x_test))))"
   ]
  },
  {
   "cell_type": "code",
   "execution_count": 38,
   "id": "2788825b-6170-4c97-ba7f-4629c4f0c795",
   "metadata": {},
   "outputs": [
    {
     "name": "stdout",
     "output_type": "stream",
     "text": [
      "Test Accuracy: 0.87936\n"
     ]
    }
   ],
   "source": [
    "print (\"Test Accuracy: %s\" % (accuracy_score(target, lr.predict(test))))"
   ]
  },
  {
   "cell_type": "code",
   "execution_count": 40,
   "id": "315b7cd4-9278-4adb-917c-d07915ce8e6c",
   "metadata": {},
   "outputs": [
    {
     "data": {
      "text/plain": [
       "86301"
      ]
     },
     "execution_count": 40,
     "metadata": {},
     "output_type": "execute_result"
    }
   ],
   "source": [
    "len(cv.get_feature_names_out())"
   ]
  },
  {
   "cell_type": "code",
   "execution_count": 41,
   "id": "dfb3c2d3-2edf-4525-821f-0a2eadffbfca",
   "metadata": {},
   "outputs": [
    {
     "data": {
      "text/plain": [
       "array([[-0.00308606,  0.04345038,  0.04464074, ...,  0.00030823,\n",
       "        -0.01485266, -0.01611065]])"
      ]
     },
     "execution_count": 41,
     "metadata": {},
     "output_type": "execute_result"
    }
   ],
   "source": [
    "lr.coef_"
   ]
  },
  {
   "cell_type": "code",
   "execution_count": 44,
   "id": "6fdc64b6-fd7e-4f18-b723-18ba1fad17b6",
   "metadata": {},
   "outputs": [
    {
     "data": {
      "text/plain": [
       "86301"
      ]
     },
     "execution_count": 44,
     "metadata": {},
     "output_type": "execute_result"
    }
   ],
   "source": [
    "len(lr.coef_[0])"
   ]
  },
  {
   "cell_type": "code",
   "execution_count": 46,
   "id": "b0ce397e-9a46-4eb1-8514-87010f010d6e",
   "metadata": {},
   "outputs": [
    {
     "data": {
      "text/plain": [
       "[('____', -0.003086058167396207),\n",
       " ('_____', 0.043450381258337153),\n",
       " ('______', 0.0446407367864826),\n",
       " ('_________', 0.011430557587571114),\n",
       " ('____________________________________', 0.0013114000206186347),\n",
       " ('_____________________________________', 0.0015367651154646622),\n",
       " ('__________________________________________________________________',\n",
       "  0.0041943313464517205),\n",
       " ('____insert', -0.0002021615939818414),\n",
       " ('_a', -0.0017948613295984712),\n",
       " ('_absolute', -5.665914085335977e-05)]"
      ]
     },
     "execution_count": 46,
     "metadata": {},
     "output_type": "execute_result"
    }
   ],
   "source": [
    "feat_coef = {word: coef for word, coef in zip(cv.get_feature_names_out(),lr.coef_[0])}\n",
    "list(feat_coef.items())[:10]"
   ]
  },
  {
   "cell_type": "code",
   "execution_count": 47,
   "id": "91afb00f-974f-473f-99db-a7fdce431557",
   "metadata": {},
   "outputs": [
    {
     "name": "stdout",
     "output_type": "stream",
     "text": [
      "('excellent', 0.773902260434357)\n",
      "('perfect', 0.6765370620895124)\n",
      "('wonderful', 0.6161483008393006)\n",
      "('favorite', 0.5767015121584536)\n",
      "('amazing', 0.5644034225852854)\n"
     ]
    }
   ],
   "source": [
    "for p in sorted(feat_coef.items(),key=lambda x: x[1],reverse=True)[:5]:\n",
    "    print(p)"
   ]
  },
  {
   "cell_type": "code",
   "execution_count": 48,
   "id": "c5b99663-be33-42f3-a7d8-ff917383d703",
   "metadata": {},
   "outputs": [
    {
     "name": "stdout",
     "output_type": "stream",
     "text": [
      "('worst', -1.2138533214898892)\n",
      "('waste', -1.1859916272886992)\n",
      "('awful', -0.9567724912759495)\n",
      "('disappointment', -0.7907383424131592)\n",
      "('boring', -0.7599679158459768)\n"
     ]
    }
   ],
   "source": [
    "for p in sorted(feat_coef.items(),key=lambda x: x[1])[:5]:\n",
    "    print(p)"
   ]
  }
 ],
 "metadata": {
  "kernelspec": {
   "display_name": "Python 3 (ipykernel)",
   "language": "python",
   "name": "python3"
  },
  "language_info": {
   "codemirror_mode": {
    "name": "ipython",
    "version": 3
   },
   "file_extension": ".py",
   "mimetype": "text/x-python",
   "name": "python",
   "nbconvert_exporter": "python",
   "pygments_lexer": "ipython3",
   "version": "3.9.18"
  }
 },
 "nbformat": 4,
 "nbformat_minor": 5
}
