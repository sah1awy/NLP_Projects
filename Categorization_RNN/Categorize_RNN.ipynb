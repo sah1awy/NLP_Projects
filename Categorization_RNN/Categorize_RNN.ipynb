{
 "cells": [
  {
   "cell_type": "code",
   "execution_count": 50,
   "id": "61dd2205-fe47-4997-8168-ee8e322c4d67",
   "metadata": {},
   "outputs": [],
   "source": [
    "import csv\n",
    "import tensorflow as tf\n",
    "import numpy as np \n",
    "from tensorflow.keras.models import Sequential\n",
    "from tensorflow.keras.layers import Activation,Dense,Dropout,SimpleRNN,Flatten,Embedding\n",
    "from tensorflow.keras.preprocessing.text import Tokenizer\n",
    "from tensorflow.keras.preprocessing.sequence import pad_sequences\n",
    "from nltk.corpus import stopwords\n",
    "import re \n",
    "import matplotlib.pyplot as plt"
   ]
  },
  {
   "cell_type": "code",
   "execution_count": 2,
   "id": "6d8696d3-79d3-4b68-9678-d410d1d3f6e3",
   "metadata": {},
   "outputs": [
    {
     "data": {
      "text/plain": [
       "['i', 'me', 'my', 'myself', 'we', 'our', 'ours', 'ourselves', 'you', \"you're\"]"
      ]
     },
     "execution_count": 2,
     "metadata": {},
     "output_type": "execute_result"
    }
   ],
   "source": [
    "stop_words = stopwords.words(\"english\")\n",
    "stop_words[:10]"
   ]
  },
  {
   "cell_type": "code",
   "execution_count": 3,
   "id": "9007eb4c-4fe3-4814-a0aa-06f5fcd1c25a",
   "metadata": {},
   "outputs": [],
   "source": [
    "vocab_sz = 5000\n",
    "embedding_dim = 64\n",
    "max_length = 200\n",
    "oov_tok = '<OOV>'\n",
    "training_portion = 0.8"
   ]
  },
  {
   "cell_type": "code",
   "execution_count": 19,
   "id": "3ffa5b6d-4573-4cab-b77b-dcf7ba16c800",
   "metadata": {},
   "outputs": [],
   "source": [
    "articles = []\n",
    "labels = []\n",
    "with open(\"bbc-text.csv\",'r') as f:\n",
    "    reader = csv.reader(f,delimiter=',')\n",
    "    next(reader)\n",
    "    for row in reader:\n",
    "        labels.append(row[0])\n",
    "        article = row[1]\n",
    "        for w in stop_words:\n",
    "            article = article.replace(\" \" + w + \" \",\" \")\n",
    "            article = re.sub(\"\\s+\",\" \",article)\n",
    "        articles.append(article)"
   ]
  },
  {
   "cell_type": "code",
   "execution_count": 20,
   "id": "9a8f5db0-4192-46b5-b0e6-992135c41e3b",
   "metadata": {},
   "outputs": [
    {
     "data": {
      "text/plain": [
       "(2225, 2225)"
      ]
     },
     "execution_count": 20,
     "metadata": {},
     "output_type": "execute_result"
    }
   ],
   "source": [
    "len(articles),len(labels)"
   ]
  },
  {
   "cell_type": "code",
   "execution_count": 21,
   "id": "13539e34-94a0-4d80-8f42-c1a57b3ccfdf",
   "metadata": {},
   "outputs": [
    {
     "name": "stdout",
     "output_type": "stream",
     "text": [
      "tech:\n",
      "tv future hands viewers home theatre systems plasma high-definition tvs digital video recorders moving living room way people watch tv radically different five years time. according expert panel gathered annual consumer electronics show las vegas discuss new technologies impact one favourite pastimes. us leading trend programmes content delivered viewers via home networks cable satellite telecoms companies broadband service providers front rooms portable devices. one talked-about technologies ces digital personal video recorders (dvr pvr). set-top boxes like us tivo uk sky+ system allow people record store play pause forward wind tv programmes want. essentially technology allows much personalised tv. also built-in high-definition tv sets big business japan us slower take europe lack high-definition programming. people forward wind adverts also forget abiding network channel schedules putting together a-la-carte entertainment. us networks cable satellite companies worried means terms advertising revenues well brand identity viewer loyalty channels. although us leads technology moment also concern raised europe particularly growing uptake services like sky+. happens today see nine months years time uk adam hume bbc broadcast futurologist told bbc news website. likes bbc issues lost advertising revenue yet. pressing issue moment commercial uk broadcasters brand loyalty important everyone. talking content brands rather network brands said tim hanlon brand communications firm starcom mediavest. reality broadband connections anybody producer content. added: challenge is hard promote programme much choice. means said stacey jolna senior vice president tv guide tv group way people find content want watch simplified tv viewers. means networks us terms channels could take leaf google book search engine future instead scheduler help people find want watch. kind channel model might work younger ipod generation used taking control gadgets play them. might suit everyone panel recognised. older generations comfortable familiar schedules channel brands know getting. perhaps want much choice put hands mr hanlon suggested. end kids diapers pushing buttons already - everything possible available said mr hanlon. ultimately consumer tell market want. 50 000 new gadgets technologies showcased ces many enhancing tv-watching experience. high-definition tv sets everywhere many new models lcd (liquid crystal display) tvs launched dvr capability built instead external boxes. one example launched show humax 26-inch lcd tv 80-hour tivo dvr dvd recorder. one us biggest satellite tv companies directtv even launched branded dvr show 100-hours recording capability instant replay search function. set pause rewind tv 90 hours. microsoft chief bill gates announced pre-show keynote speech partnership tivo called tivotogo means people play recorded programmes windows pcs mobile devices. reflect increasing trend freeing multimedia people watch want want.\n"
     ]
    }
   ],
   "source": [
    "print(f\"{labels[0]}:\\n{articles[0]}\")"
   ]
  },
  {
   "cell_type": "code",
   "execution_count": 22,
   "id": "5da5086b-38a5-4307-8e7b-a32fcab6e481",
   "metadata": {},
   "outputs": [],
   "source": [
    "train_sz = int(training_portion * len(articles))\n",
    "train_articles = articles[:train_sz]\n",
    "train_labels = labels[:train_sz]\n",
    "val_articles = articles[train_sz:]\n",
    "val_labels = labels[train_sz:]"
   ]
  },
  {
   "cell_type": "code",
   "execution_count": 23,
   "id": "f11abab6-bca2-4d9a-856e-33d866147e86",
   "metadata": {},
   "outputs": [
    {
     "name": "stdout",
     "output_type": "stream",
     "text": [
      "train_articles 1780\n",
      "train_labels 1780\n",
      "validation_articles 445\n",
      "validation_labels 445\n"
     ]
    }
   ],
   "source": [
    "print('train_articles' ,len(train_articles))\n",
    "print('train_labels', len(train_labels))\n",
    "print('validation_articles', len(val_articles))\n",
    "print('validation_labels', len(val_labels))"
   ]
  },
  {
   "cell_type": "code",
   "execution_count": 24,
   "id": "96ab25a8-bfec-4f80-a2d2-b13ea3c523ed",
   "metadata": {},
   "outputs": [],
   "source": [
    "tokenizer = Tokenizer(num_words=200,oov_token=oov_tok)\n",
    "tokenizer.fit_on_texts(train_articles)\n",
    "word_idx = tokenizer.word_index"
   ]
  },
  {
   "cell_type": "code",
   "execution_count": 31,
   "id": "4781754a-ec03-4c31-9321-994e85039e8b",
   "metadata": {},
   "outputs": [
    {
     "name": "stdout",
     "output_type": "stream",
     "text": [
      "<OOV> --> 1\n",
      "said --> 2\n",
      "mr --> 3\n",
      "would --> 4\n",
      "year --> 5\n",
      "also --> 6\n",
      "people --> 7\n",
      "new --> 8\n",
      "us --> 9\n",
      "one --> 10\n",
      "could --> 11\n",
      "last --> 12\n",
      "first --> 13\n",
      "time --> 14\n",
      "two --> 15\n",
      "government --> 16\n",
      "world --> 17\n",
      "uk --> 18\n",
      "best --> 19\n",
      "years --> 20\n",
      "make --> 21\n",
      "film --> 22\n",
      "told --> 23\n",
      "made --> 24\n",
      "get --> 25\n",
      "music --> 26\n",
      "game --> 27\n",
      "like --> 28\n",
      "back --> 29\n",
      "many --> 30\n",
      "000 --> 31\n",
      "labour --> 32\n",
      "three --> 33\n",
      "well --> 34\n",
      "1 --> 35\n",
      "next --> 36\n",
      "bbc --> 37\n",
      "take --> 38\n",
      "set --> 39\n",
      "number --> 40\n",
      "added --> 41\n",
      "way --> 42\n",
      "market --> 43\n",
      "2 --> 44\n",
      "company --> 45\n",
      "may --> 46\n",
      "says --> 47\n",
      "election --> 48\n",
      "home --> 49\n",
      "party --> 50\n",
      "good --> 51\n",
      "going --> 52\n",
      "much --> 53\n",
      "work --> 54\n",
      "2004 --> 55\n",
      "still --> 56\n",
      "win --> 57\n",
      "show --> 58\n",
      "think --> 59\n",
      "games --> 60\n",
      "go --> 61\n",
      "top --> 62\n",
      "second --> 63\n",
      "million --> 64\n",
      "6 --> 65\n",
      "england --> 66\n",
      "firm --> 67\n",
      "since --> 68\n",
      "week --> 69\n",
      "say --> 70\n",
      "play --> 71\n",
      "part --> 72\n",
      "public --> 73\n",
      "use --> 74\n",
      "blair --> 75\n",
      "3 --> 76\n",
      "want --> 77\n",
      "minister --> 78\n",
      "however --> 79\n",
      "10 --> 80\n",
      "country --> 81\n",
      "technology --> 82\n",
      "see --> 83\n",
      "4 --> 84\n",
      "five --> 85\n",
      "british --> 86\n",
      "news --> 87\n",
      "european --> 88\n",
      "high --> 89\n",
      "group --> 90\n",
      "tv --> 91\n",
      "used --> 92\n",
      "end --> 93\n",
      "expected --> 94\n",
      "even --> 95\n",
      "players --> 96\n",
      "brown --> 97\n",
      "5 --> 98\n",
      "six --> 99\n",
      "old --> 100\n",
      "net --> 101\n",
      "already --> 102\n",
      "four --> 103\n",
      "plans --> 104\n",
      "put --> 105\n",
      "come --> 106\n",
      "half --> 107\n",
      "london --> 108\n",
      "sales --> 109\n",
      "growth --> 110\n",
      "long --> 111\n",
      "economy --> 112\n",
      "service --> 113\n",
      "right --> 114\n",
      "months --> 115\n",
      "chief --> 116\n",
      "day --> 117\n",
      "mobile --> 118\n",
      "former --> 119\n",
      "money --> 120\n",
      "britain --> 121\n",
      "director --> 122\n",
      "tax --> 123\n",
      "services --> 124\n",
      "2005 --> 125\n",
      "deal --> 126\n",
      "need --> 127\n",
      "help --> 128\n",
      "digital --> 129\n",
      "according --> 130\n",
      "big --> 131\n",
      "industry --> 132\n",
      "place --> 133\n",
      "companies --> 134\n",
      "users --> 135\n",
      "system --> 136\n",
      "business --> 137\n",
      "including --> 138\n",
      "team --> 139\n",
      "final --> 140\n",
      "based --> 141\n",
      "hit --> 142\n",
      "record --> 143\n",
      "report --> 144\n",
      "third --> 145\n",
      "called --> 146\n",
      "really --> 147\n",
      "international --> 148\n",
      "month --> 149\n",
      "move --> 150\n",
      "wales --> 151\n",
      "europe --> 152\n",
      "another --> 153\n",
      "7 --> 154\n",
      "life --> 155\n",
      "around --> 156\n",
      "economic --> 157\n",
      "start --> 158\n",
      "great --> 159\n",
      "future --> 160\n",
      "2003 --> 161\n",
      "firms --> 162\n",
      "came --> 163\n",
      "france --> 164\n",
      "open --> 165\n",
      "got --> 166\n",
      "spokesman --> 167\n",
      "software --> 168\n",
      "without --> 169\n",
      "general --> 170\n",
      "club --> 171\n",
      "up --> 172\n",
      "took --> 173\n",
      "ireland --> 174\n",
      "video --> 175\n",
      "howard --> 176\n",
      "know --> 177\n",
      "united --> 178\n",
      "online --> 179\n",
      "bank --> 180\n",
      "phone --> 181\n",
      "china --> 182\n",
      "far --> 183\n",
      "state --> 184\n",
      "campaign --> 185\n",
      "side --> 186\n",
      "law --> 187\n",
      "radio --> 188\n",
      "better --> 189\n",
      "court --> 190\n",
      "making --> 191\n",
      "decision --> 192\n",
      "executive --> 193\n",
      "real --> 194\n",
      "media --> 195\n",
      "offer --> 196\n",
      "give --> 197\n",
      "computer --> 198\n",
      "found --> 199\n",
      "action --> 200\n"
     ]
    }
   ],
   "source": [
    "for x, y in zip(list(word_idx)[:200],list(word_idx.values())[:200]):\n",
    "    print(x,'-->',y)"
   ]
  },
  {
   "cell_type": "code",
   "execution_count": 32,
   "id": "f001fdc0-b295-4f91-b04b-eaa6b7eb7732",
   "metadata": {},
   "outputs": [
    {
     "data": {
      "text/plain": [
       "[[1, 1, 1, 1, 1]]"
      ]
     },
     "execution_count": 32,
     "metadata": {},
     "output_type": "execute_result"
    }
   ],
   "source": [
    "tokenizer.texts_to_sequences([\"angels crying in my bed\"])"
   ]
  },
  {
   "cell_type": "code",
   "execution_count": 34,
   "id": "6221fdc7-3ee2-4dea-bd37-8eba94e11589",
   "metadata": {},
   "outputs": [
    {
     "data": {
      "text/plain": [
       "1780"
      ]
     },
     "execution_count": 34,
     "metadata": {},
     "output_type": "execute_result"
    }
   ],
   "source": [
    "train_seq = tokenizer.texts_to_sequences(train_articles)\n",
    "len(train_seq)"
   ]
  },
  {
   "cell_type": "code",
   "execution_count": 35,
   "id": "cc4a95d6-430b-4353-8b06-2b0071b82ceb",
   "metadata": {},
   "outputs": [
    {
     "data": {
      "text/plain": [
       "426"
      ]
     },
     "execution_count": 35,
     "metadata": {},
     "output_type": "execute_result"
    }
   ],
   "source": [
    "len(train_seq[0])"
   ]
  },
  {
   "cell_type": "code",
   "execution_count": 36,
   "id": "a211fdc7-362e-4007-be08-146de17882f9",
   "metadata": {},
   "outputs": [
    {
     "data": {
      "text/plain": [
       "192"
      ]
     },
     "execution_count": 36,
     "metadata": {},
     "output_type": "execute_result"
    }
   ],
   "source": [
    "len(train_seq[1])"
   ]
  },
  {
   "cell_type": "code",
   "execution_count": 37,
   "id": "e92de305-faeb-4bbc-95e1-a21871d689fa",
   "metadata": {},
   "outputs": [],
   "source": [
    "train_padded = pad_sequences(sequences=train_seq,maxlen=max_length)"
   ]
  },
  {
   "cell_type": "code",
   "execution_count": 38,
   "id": "c8707195-1b01-4c86-a1bc-16fc24e86f99",
   "metadata": {},
   "outputs": [
    {
     "data": {
      "text/plain": [
       "200"
      ]
     },
     "execution_count": 38,
     "metadata": {},
     "output_type": "execute_result"
    }
   ],
   "source": [
    "len(train_padded[0])"
   ]
  },
  {
   "cell_type": "code",
   "execution_count": 39,
   "id": "52565a2d-65d8-4ca8-a011-d2a6eca5966a",
   "metadata": {},
   "outputs": [
    {
     "data": {
      "text/plain": [
       "200"
      ]
     },
     "execution_count": 39,
     "metadata": {},
     "output_type": "execute_result"
    }
   ],
   "source": [
    "len(train_padded[1])"
   ]
  },
  {
   "cell_type": "code",
   "execution_count": 40,
   "id": "5977f761-bdea-4757-bd66-f7d0f6ed1f3e",
   "metadata": {},
   "outputs": [],
   "source": [
    "val_sequences = tokenizer.texts_to_sequences(val_articles)\n",
    "val_padded = pad_sequences(val_sequences, maxlen=max_length)"
   ]
  },
  {
   "cell_type": "code",
   "execution_count": 41,
   "id": "35ede789-1e87-45a5-8f9c-37155104fbcf",
   "metadata": {},
   "outputs": [
    {
     "data": {
      "text/plain": [
       "{'business', 'entertainment', 'politics', 'sport', 'tech'}"
      ]
     },
     "execution_count": 41,
     "metadata": {},
     "output_type": "execute_result"
    }
   ],
   "source": [
    "set(labels)"
   ]
  },
  {
   "cell_type": "code",
   "execution_count": 42,
   "id": "f53bace8-a3f8-4cb6-a1de-4c195e7c4d01",
   "metadata": {},
   "outputs": [],
   "source": [
    "label_tokenizer = Tokenizer()\n",
    "label_tokenizer.fit_on_texts(labels)\n",
    "training_label_seq = np.array(label_tokenizer.texts_to_sequences(train_labels))\n",
    "validation_label_seq = np.array(label_tokenizer.texts_to_sequences(val_labels))"
   ]
  },
  {
   "cell_type": "code",
   "execution_count": 66,
   "id": "03d6d95e-c8ec-47b8-8858-516a4cacaa24",
   "metadata": {},
   "outputs": [],
   "source": [
    "training_label_seq = training_label_seq - 1 \n",
    "validation_label_seq = validation_label_seq - 1"
   ]
  },
  {
   "cell_type": "code",
   "execution_count": 67,
   "id": "7f33e7e0-bfd1-4802-bd3d-13f3fce58116",
   "metadata": {},
   "outputs": [],
   "source": [
    "model = Sequential()\n",
    "model.add(Embedding(input_dim=vocab_sz,output_dim=embedding_dim))\n",
    "model.add(Dropout(0.2))\n",
    "model.add(SimpleRNN(embedding_dim))\n",
    "model.add(Dense(units=5,activation='softmax'))"
   ]
  },
  {
   "cell_type": "code",
   "execution_count": 68,
   "id": "3a812bc2-976a-498b-a9f1-5dd27f1c8720",
   "metadata": {},
   "outputs": [
    {
     "name": "stdout",
     "output_type": "stream",
     "text": [
      "Model: \"sequential_3\"\n",
      "_________________________________________________________________\n",
      " Layer (type)                Output Shape              Param #   \n",
      "=================================================================\n",
      " embedding_3 (Embedding)     (None, None, 64)          320000    \n",
      "                                                                 \n",
      " dropout_4 (Dropout)         (None, None, 64)          0         \n",
      "                                                                 \n",
      " simple_rnn_3 (SimpleRNN)    (None, 64)                8256      \n",
      "                                                                 \n",
      " dense_3 (Dense)             (None, 5)                 325       \n",
      "                                                                 \n",
      "=================================================================\n",
      "Total params: 328,581\n",
      "Trainable params: 328,581\n",
      "Non-trainable params: 0\n",
      "_________________________________________________________________\n"
     ]
    }
   ],
   "source": [
    "model.summary()"
   ]
  },
  {
   "cell_type": "code",
   "execution_count": 69,
   "id": "37e2defb-70fb-495b-a758-6e0c4b4aaf5d",
   "metadata": {},
   "outputs": [],
   "source": [
    "model.compile(loss='sparse_categorical_crossentropy',optimizer='adam',metrics=['accuracy'])"
   ]
  },
  {
   "cell_type": "code",
   "execution_count": 70,
   "id": "2833899b-6976-4b19-9917-d29cf932353f",
   "metadata": {},
   "outputs": [
    {
     "name": "stdout",
     "output_type": "stream",
     "text": [
      "Epoch 1/50\n",
      "56/56 [==============================] - 9s 121ms/step - loss: 1.6143 - accuracy: 0.2343 - val_loss: 1.5996 - val_accuracy: 0.2607\n",
      "Epoch 2/50\n",
      "56/56 [==============================] - 6s 110ms/step - loss: 1.5606 - accuracy: 0.3073 - val_loss: 1.5732 - val_accuracy: 0.3079\n",
      "Epoch 3/50\n",
      "56/56 [==============================] - 6s 110ms/step - loss: 1.5051 - accuracy: 0.3663 - val_loss: 1.5469 - val_accuracy: 0.3258\n",
      "Epoch 4/50\n",
      "56/56 [==============================] - 6s 109ms/step - loss: 1.4329 - accuracy: 0.4539 - val_loss: 1.5352 - val_accuracy: 0.3213\n",
      "Epoch 5/50\n",
      "56/56 [==============================] - 6s 109ms/step - loss: 1.3743 - accuracy: 0.4607 - val_loss: 1.5373 - val_accuracy: 0.2989\n",
      "Epoch 6/50\n",
      "56/56 [==============================] - 6s 111ms/step - loss: 1.4416 - accuracy: 0.4376 - val_loss: 1.7703 - val_accuracy: 0.1798\n",
      "Epoch 7/50\n",
      "56/56 [==============================] - 6s 105ms/step - loss: 1.5548 - accuracy: 0.3146 - val_loss: 1.5567 - val_accuracy: 0.3146\n",
      "Epoch 8/50\n",
      "56/56 [==============================] - 6s 110ms/step - loss: 1.3759 - accuracy: 0.4517 - val_loss: 1.5463 - val_accuracy: 0.3079\n",
      "Epoch 9/50\n",
      "56/56 [==============================] - 6s 108ms/step - loss: 1.2223 - accuracy: 0.5438 - val_loss: 1.3837 - val_accuracy: 0.4022\n",
      "Epoch 10/50\n",
      "56/56 [==============================] - 6s 107ms/step - loss: 1.0989 - accuracy: 0.6084 - val_loss: 1.3221 - val_accuracy: 0.4517\n",
      "Epoch 11/50\n",
      "56/56 [==============================] - 6s 110ms/step - loss: 0.9587 - accuracy: 0.6882 - val_loss: 1.2926 - val_accuracy: 0.4674\n",
      "Epoch 12/50\n",
      "56/56 [==============================] - 6s 109ms/step - loss: 1.0311 - accuracy: 0.6483 - val_loss: 1.3712 - val_accuracy: 0.4427\n",
      "Epoch 13/50\n",
      "56/56 [==============================] - 6s 109ms/step - loss: 0.8497 - accuracy: 0.7242 - val_loss: 1.3874 - val_accuracy: 0.4674\n",
      "Epoch 14/50\n",
      "56/56 [==============================] - 6s 110ms/step - loss: 0.7232 - accuracy: 0.7590 - val_loss: 1.3990 - val_accuracy: 0.4427\n",
      "Epoch 15/50\n",
      "56/56 [==============================] - 6s 109ms/step - loss: 0.9273 - accuracy: 0.6657 - val_loss: 1.6197 - val_accuracy: 0.3618\n",
      "Epoch 16/50\n",
      "56/56 [==============================] - 6s 111ms/step - loss: 0.9038 - accuracy: 0.6843 - val_loss: 1.7064 - val_accuracy: 0.3393\n",
      "Epoch 17/50\n",
      "56/56 [==============================] - 6s 109ms/step - loss: 0.8394 - accuracy: 0.7096 - val_loss: 1.6221 - val_accuracy: 0.3820\n",
      "Epoch 18/50\n",
      "56/56 [==============================] - 6s 109ms/step - loss: 0.6956 - accuracy: 0.7702 - val_loss: 1.4335 - val_accuracy: 0.4899\n",
      "Epoch 19/50\n",
      "56/56 [==============================] - 6s 106ms/step - loss: 0.5486 - accuracy: 0.8337 - val_loss: 1.4581 - val_accuracy: 0.4652\n",
      "Epoch 20/50\n",
      "56/56 [==============================] - 6s 109ms/step - loss: 0.4874 - accuracy: 0.8511 - val_loss: 1.5379 - val_accuracy: 0.4539\n",
      "Epoch 21/50\n",
      "56/56 [==============================] - 6s 110ms/step - loss: 0.5804 - accuracy: 0.8157 - val_loss: 1.5865 - val_accuracy: 0.4831\n",
      "Epoch 22/50\n",
      "56/56 [==============================] - 6s 109ms/step - loss: 0.4327 - accuracy: 0.8601 - val_loss: 1.5766 - val_accuracy: 0.4809\n",
      "Epoch 23/50\n",
      "56/56 [==============================] - 6s 109ms/step - loss: 0.3806 - accuracy: 0.8882 - val_loss: 1.5773 - val_accuracy: 0.4831\n",
      "Epoch 24/50\n",
      "56/56 [==============================] - 6s 108ms/step - loss: 0.3455 - accuracy: 0.8994 - val_loss: 1.9659 - val_accuracy: 0.4787\n",
      "Epoch 25/50\n",
      "56/56 [==============================] - 6s 107ms/step - loss: 0.4225 - accuracy: 0.8702 - val_loss: 1.9998 - val_accuracy: 0.4225\n",
      "Epoch 26/50\n",
      "56/56 [==============================] - 6s 102ms/step - loss: 0.3993 - accuracy: 0.8781 - val_loss: 1.6175 - val_accuracy: 0.5258\n",
      "Epoch 27/50\n",
      "56/56 [==============================] - 6s 110ms/step - loss: 0.3150 - accuracy: 0.9051 - val_loss: 1.6804 - val_accuracy: 0.5146\n",
      "Epoch 28/50\n",
      "56/56 [==============================] - 6s 106ms/step - loss: 0.3047 - accuracy: 0.9208 - val_loss: 1.6731 - val_accuracy: 0.4809\n",
      "Epoch 29/50\n",
      "56/56 [==============================] - 6s 114ms/step - loss: 0.2577 - accuracy: 0.9281 - val_loss: 1.7763 - val_accuracy: 0.4472\n",
      "Epoch 30/50\n",
      "56/56 [==============================] - 6s 113ms/step - loss: 0.2060 - accuracy: 0.9528 - val_loss: 1.8185 - val_accuracy: 0.4809\n",
      "Epoch 31/50\n",
      "56/56 [==============================] - 6s 109ms/step - loss: 0.1998 - accuracy: 0.9522 - val_loss: 1.7946 - val_accuracy: 0.5034\n",
      "Epoch 32/50\n",
      "56/56 [==============================] - 6s 102ms/step - loss: 0.1891 - accuracy: 0.9579 - val_loss: 1.8789 - val_accuracy: 0.4989\n",
      "Epoch 33/50\n",
      "56/56 [==============================] - 6s 106ms/step - loss: 0.1642 - accuracy: 0.9607 - val_loss: 1.8548 - val_accuracy: 0.4944\n",
      "Epoch 34/50\n",
      "56/56 [==============================] - 6s 105ms/step - loss: 0.1723 - accuracy: 0.9567 - val_loss: 1.8824 - val_accuracy: 0.4854\n",
      "Epoch 35/50\n",
      "56/56 [==============================] - 6s 105ms/step - loss: 0.1937 - accuracy: 0.9461 - val_loss: 2.0155 - val_accuracy: 0.4809\n",
      "Epoch 36/50\n",
      "56/56 [==============================] - 6s 107ms/step - loss: 0.1920 - accuracy: 0.9455 - val_loss: 1.9549 - val_accuracy: 0.4876\n",
      "Epoch 37/50\n",
      "56/56 [==============================] - 6s 108ms/step - loss: 0.1560 - accuracy: 0.9584 - val_loss: 2.0182 - val_accuracy: 0.4742\n",
      "Epoch 38/50\n",
      "56/56 [==============================] - 6s 107ms/step - loss: 0.1423 - accuracy: 0.9669 - val_loss: 1.9474 - val_accuracy: 0.5236\n",
      "Epoch 39/50\n",
      "56/56 [==============================] - 6s 108ms/step - loss: 0.4112 - accuracy: 0.8607 - val_loss: 2.0244 - val_accuracy: 0.5011\n",
      "Epoch 40/50\n",
      "56/56 [==============================] - 6s 107ms/step - loss: 0.2264 - accuracy: 0.9354 - val_loss: 2.0183 - val_accuracy: 0.4921\n",
      "Epoch 41/50\n",
      "56/56 [==============================] - 6s 108ms/step - loss: 0.1478 - accuracy: 0.9640 - val_loss: 2.0423 - val_accuracy: 0.5056\n",
      "Epoch 42/50\n",
      "56/56 [==============================] - 6s 106ms/step - loss: 0.1408 - accuracy: 0.9652 - val_loss: 1.9993 - val_accuracy: 0.5011\n",
      "Epoch 43/50\n",
      "56/56 [==============================] - 6s 106ms/step - loss: 0.1088 - accuracy: 0.9758 - val_loss: 2.0811 - val_accuracy: 0.4966\n",
      "Epoch 44/50\n",
      "56/56 [==============================] - 6s 107ms/step - loss: 0.1595 - accuracy: 0.9573 - val_loss: 2.2661 - val_accuracy: 0.4899\n",
      "Epoch 45/50\n",
      "56/56 [==============================] - 6s 107ms/step - loss: 0.1486 - accuracy: 0.9652 - val_loss: 2.1440 - val_accuracy: 0.4876\n",
      "Epoch 46/50\n",
      "56/56 [==============================] - 6s 101ms/step - loss: 0.1029 - accuracy: 0.9753 - val_loss: 2.2155 - val_accuracy: 0.4989\n",
      "Epoch 47/50\n",
      "56/56 [==============================] - 6s 109ms/step - loss: 0.1154 - accuracy: 0.9719 - val_loss: 2.1887 - val_accuracy: 0.4831\n",
      "Epoch 48/50\n",
      "56/56 [==============================] - 6s 107ms/step - loss: 0.0910 - accuracy: 0.9781 - val_loss: 2.2624 - val_accuracy: 0.5056\n",
      "Epoch 49/50\n",
      "56/56 [==============================] - 6s 106ms/step - loss: 0.1885 - accuracy: 0.9393 - val_loss: 2.7332 - val_accuracy: 0.3978\n",
      "Epoch 50/50\n",
      "56/56 [==============================] - 6s 104ms/step - loss: 0.3560 - accuracy: 0.8770 - val_loss: 2.3987 - val_accuracy: 0.4494\n"
     ]
    }
   ],
   "source": [
    "history = model.fit(train_padded, training_label_seq, epochs=50,\n",
    "                    validation_data=(val_padded, validation_label_seq),\n",
    "                    )"
   ]
  },
  {
   "cell_type": "code",
   "execution_count": 72,
   "id": "157e60b6-0340-4d67-bffe-3049f21ffa18",
   "metadata": {},
   "outputs": [
    {
     "data": {
      "image/png": "[encoded data removed]",
      "text/plain": [
       "<Figure size 640x480 with 1 Axes>"
      ]
     },
     "metadata": {},
     "output_type": "display_data"
    }
   ],
   "source": [
    "plt.plot(history.history['accuracy'])\n",
    "plt.plot(history.history['val_accuracy'])\n",
    "plt.title('model accuracy')\n",
    "plt.ylabel('accuracy')\n",
    "plt.xlabel('epoch')\n",
    "plt.legend(['train', 'test'], loc='upper left') \n",
    "plt.show()"
   ]
  },
  {
   "cell_type": "code",
   "execution_count": 78,
   "id": "5a92e1e9-9b7f-47f5-acea-a01cea131e12",
   "metadata": {},
   "outputs": [
    {
     "name": "stdout",
     "output_type": "stream",
     "text": [
      "1/1 [==============================] - 0s 53ms/step\n",
      "[[0.00109962 0.1754673  0.6633092  0.09670184 0.06342191]]\n",
      "2\n",
      "business\n"
     ]
    }
   ],
   "source": [
    "txt = [\"call to save manufacturing jobs the trades union congress (tuc) is calling on the government to stem job losses in manufacturing firms by reviewing the help it gives companies.  the tuc said in its submission before the budget that action is needed because of 105 000 jobs lost from the sector over the last year. it calls for better pensions  child care provision and decent wages. the 36-page submission also urges the government to examine support other european countries provide to industry. tuc general secretary brendan barber called for  a commitment to policies that will make a real difference to the lives of working people.    greater investment in childcare strategies and the people delivering that childcare will increases the options available to working parents   he said.  a commitment to our public services and manufacturing sector ensures that we can continue to compete on a global level and deliver the frontline services that this country needs.  he also called for  practical measures  to help pensioners  especially women who he said  are most likely to retire in poverty . the submission also calls for decent wages and training for people working in the manufacturing sector.\"]\n",
    "seq = tokenizer.texts_to_sequences(txt)\n",
    "padded = pad_sequences(seq, maxlen=max_length)\n",
    "pred = model.predict(padded)\n",
    "print(pred)\n",
    "print(np.argmax(pred))\n",
    "print(labels[np.argmax(pred)-1])"
   ]
  }
 ],
 "metadata": {
  "kernelspec": {
   "display_name": "Python 3 (ipykernel)",
   "language": "python",
   "name": "python3"
  },
  "language_info": {
   "codemirror_mode": {
    "name": "ipython",
    "version": 3
   },
   "file_extension": ".py",
   "mimetype": "text/x-python",
   "name": "python",
   "nbconvert_exporter": "python",
   "pygments_lexer": "ipython3",
   "version": "3.9.18"
  }
 },
 "nbformat": 4,
 "nbformat_minor": 5
}
