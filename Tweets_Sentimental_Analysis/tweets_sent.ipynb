{
 "cells": [
  {
   "cell_type": "code",
   "execution_count": 22,
   "id": "63a808ee-eef7-44ff-80da-ba366138097b",
   "metadata": {},
   "outputs": [],
   "source": [
    "import nltk,re,string,random\n",
    "from nltk.tag import pos_tag\n",
    "from nltk.corpus import stopwords,twitter_samples\n",
    "from nltk.stem.wordnet import WordNetLemmatizer\n",
    "from nltk.tokenize import word_tokenize\n",
    "from nltk import FreqDist,classify,NaiveBayesClassifier"
   ]
  },
  {
   "cell_type": "code",
   "execution_count": 4,
   "id": "4337017e-181a-4d82-816f-9eb25a50c400",
   "metadata": {},
   "outputs": [],
   "source": [
    "pos_tweets = twitter_samples.strings(\"positive_tweets.json\")\n",
    "neg_tweets = twitter_samples.strings(\"negative_tweets.json\")\n",
    "text = twitter_samples.strings('tweets.20150430-223406.json')\n",
    "tok_tweets = twitter_samples.tokenized(\"positive_tweets.json\")"
   ]
  },
  {
   "cell_type": "code",
   "execution_count": 5,
   "id": "211d13db-2251-4f0a-a1ba-478a501e0101",
   "metadata": {},
   "outputs": [
    {
     "data": {
      "text/plain": [
       "20000"
      ]
     },
     "execution_count": 5,
     "metadata": {},
     "output_type": "execute_result"
    }
   ],
   "source": [
    "len(text)"
   ]
  },
  {
   "cell_type": "code",
   "execution_count": 6,
   "id": "010dba69-da93-4799-b55c-a563c7f92063",
   "metadata": {},
   "outputs": [
    {
     "data": {
      "text/plain": [
       "5000"
      ]
     },
     "execution_count": 6,
     "metadata": {},
     "output_type": "execute_result"
    }
   ],
   "source": [
    "len(pos_tweets)"
   ]
  },
  {
   "cell_type": "code",
   "execution_count": 8,
   "id": "7877d12c-e0f9-4ed2-a578-67d526dda5e2",
   "metadata": {},
   "outputs": [
    {
     "data": {
      "text/plain": [
       "5000"
      ]
     },
     "execution_count": 8,
     "metadata": {},
     "output_type": "execute_result"
    }
   ],
   "source": [
    "len(neg_tweets)"
   ]
  },
  {
   "cell_type": "code",
   "execution_count": 9,
   "id": "208b1a67-1854-4282-9665-5511ad416c77",
   "metadata": {},
   "outputs": [
    {
     "name": "stdout",
     "output_type": "stream",
     "text": [
      "['#FollowFriday', '@France_Inte', '@PKuchly57', '@Milipol_Paris', 'for', 'being', 'top', 'engaged', 'members', 'in', 'my', 'community', 'this', 'week', ':)']\n"
     ]
    }
   ],
   "source": [
    "print(tok_tweets[0])"
   ]
  },
  {
   "cell_type": "code",
   "execution_count": 11,
   "id": "4bad4133-c1e1-4b08-b4e1-6806046dbf55",
   "metadata": {},
   "outputs": [
    {
     "name": "stdout",
     "output_type": "stream",
     "text": [
      "[('#FollowFriday', 'JJ'), ('@France_Inte', 'NNP'), ('@PKuchly57', 'NNP'), ('@Milipol_Paris', 'NNP'), ('for', 'IN'), ('being', 'VBG'), ('top', 'JJ'), ('engaged', 'VBN'), ('members', 'NNS'), ('in', 'IN'), ('my', 'PRP$'), ('community', 'NN'), ('this', 'DT'), ('week', 'NN'), (':)', 'NN')]\n"
     ]
    }
   ],
   "source": [
    "print(pos_tag(tok_tweets[0]))"
   ]
  },
  {
   "cell_type": "code",
   "execution_count": 12,
   "id": "d7f5e1f4-b976-485f-8fc4-eb48685ff0d7",
   "metadata": {},
   "outputs": [],
   "source": [
    "lemmatizer = WordNetLemmatizer()"
   ]
  },
  {
   "cell_type": "code",
   "execution_count": 14,
   "id": "9f895ca5-9c00-42b8-93c1-224032091d78",
   "metadata": {},
   "outputs": [
    {
     "data": {
      "text/plain": [
       "['#FollowFriday',\n",
       " '@France_Inte',\n",
       " '@PKuchly57',\n",
       " '@Milipol_Paris',\n",
       " 'for',\n",
       " 'be',\n",
       " 'top',\n",
       " 'engage',\n",
       " 'member',\n",
       " 'in',\n",
       " 'my',\n",
       " 'community',\n",
       " 'this',\n",
       " 'week',\n",
       " ':)']"
      ]
     },
     "execution_count": 14,
     "metadata": {},
     "output_type": "execute_result"
    }
   ],
   "source": [
    "def lemmatize(txt):\n",
    "    lemmatized = []\n",
    "    for w,t in pos_tag(txt):\n",
    "        if t.startswith(\"NN\"):\n",
    "            pos = 'n'\n",
    "        elif t.startswith(\"VB\"):\n",
    "            pos = 'v'\n",
    "        else:\n",
    "            pos = 'a'\n",
    "        lemmatized.append(lemmatizer.lemmatize(w,pos))\n",
    "    return lemmatized\n",
    "\n",
    "lemmatize(tok_tweets[0])"
   ]
  },
  {
   "cell_type": "code",
   "execution_count": 25,
   "id": "eab1ef1b-6e29-4c7f-8b94-de771b9bd89e",
   "metadata": {},
   "outputs": [],
   "source": [
    "def remove_noise(tweets,stopwords=()):\n",
    "    cleaned = []\n",
    "    for tok,t in pos_tag(tweets):\n",
    "        tok = re.sub(\"http[s]?://(?:[a-zA-Z]|[0-9]|[$-_@.&+#]|[!*\\(\\),]|(?:%[0-9a-fA-F][0-9a-fA-F]))+\",'',tok)\n",
    "        tok = re.sub(\"(@[A-Za-z0-9_]+)\",\"\",tok)\n",
    "        if t == 'NN':\n",
    "            pos = 'n'\n",
    "        elif t == \"VB\":\n",
    "            pos = 'v'\n",
    "        else:\n",
    "            pos = 'a'\n",
    "        tok = lemmatizer.lemmatize(tok,pos)\n",
    "        if len(tok) > 0 and tok not in string.punctuation and tok.lower() not in stopwords:\n",
    "            cleaned.append(tok.lower())\n",
    "    return cleaned"
   ]
  },
  {
   "cell_type": "code",
   "execution_count": 26,
   "id": "d45f4bfb-83b1-4e13-857a-ec7d12c6c708",
   "metadata": {},
   "outputs": [],
   "source": [
    "stop_words = stopwords.words(\"english\")"
   ]
  },
  {
   "cell_type": "code",
   "execution_count": 27,
   "id": "a8cde3c8-cbb3-468c-8fce-1ed3294481d9",
   "metadata": {},
   "outputs": [
    {
     "name": "stdout",
     "output_type": "stream",
     "text": [
      "['#followfriday', 'top', 'engaged', 'members', 'community', 'week', ':)']\n"
     ]
    }
   ],
   "source": [
    "print(remove_noise(tok_tweets[0],stop_words))"
   ]
  },
  {
   "cell_type": "code",
   "execution_count": 28,
   "id": "995ee0d6-c0d0-4fc6-8439-464b546c15c8",
   "metadata": {},
   "outputs": [
    {
     "data": {
      "text/plain": [
       "['https://www.libgen.is/search.php?req=mastry&lg_topic=libgen&open=0&view=simple&res=25&phrase=1&column=def']"
      ]
     },
     "execution_count": 28,
     "metadata": {},
     "output_type": "execute_result"
    }
   ],
   "source": [
    "s = \"https://www.libgen.is/search.php?req=mastry&lg_topic=libgen&open=0&view=simple&res=25&phrase=1&column=def\"\n",
    "re.findall(\"http[s]://(?:[a-zA-Z]|[0-9]|[$-_@.&+#]|[!*\\(\\),]|(?:%[0-9a-fA-F][0-9a-fA-F]))+\",s)"
   ]
  },
  {
   "cell_type": "code",
   "execution_count": 29,
   "id": "d9e9571e-b0e9-4f10-b48a-6a3cb504d4be",
   "metadata": {},
   "outputs": [],
   "source": [
    "pos_tokens = twitter_samples.tokenized('positive_tweets.json')\n",
    "neg_tokens = twitter_samples.tokenized('negative_tweets.json')\n",
    "pos_cleaned_tok = []\n",
    "neg_cleaned_tok = []\n",
    "for tokens in pos_tokens:\n",
    "    pos_cleaned_tok.append(remove_noise(tokens, stop_words))\n",
    "\n",
    "for tokens in neg_tokens:\n",
    "    neg_cleaned_tok.append(remove_noise(tokens, stop_words))"
   ]
  },
  {
   "cell_type": "code",
   "execution_count": 30,
   "id": "c91d47ab-744c-437b-8b37-2d5599967abb",
   "metadata": {},
   "outputs": [
    {
     "name": "stdout",
     "output_type": "stream",
     "text": [
      "['Dang', 'that', 'is', 'some', 'rad', '@AbzuGame', '#fanart', '!', ':D', 'https://t.co/bI8k8tb9ht']\n",
      "['dang', 'rad', '#fanart', ':d']\n"
     ]
    }
   ],
   "source": [
    "print(pos_tokens[500])\n",
    "print(pos_cleaned_tok[500])"
   ]
  },
  {
   "cell_type": "code",
   "execution_count": 36,
   "id": "dad4cece-a10a-40dc-9192-8b53ede7e813",
   "metadata": {},
   "outputs": [],
   "source": [
    "def get_all_words(cleaned_tokens_list):\n",
    "    for tokens in cleaned_tokens_list:\n",
    "        for token in tokens:\n",
    "            yield token\n",
    "\n",
    "all_pos_words = get_all_words(pos_cleaned_tok)"
   ]
  },
  {
   "cell_type": "code",
   "execution_count": 37,
   "id": "6f057252-9c2d-4e14-853c-5354bb5d41a6",
   "metadata": {},
   "outputs": [
    {
     "name": "stdout",
     "output_type": "stream",
     "text": [
      "[(':)', 3691), (':-)', 701), (':d', 658), ('thanks', 391), ('follow', 304), ('...', 290), ('good', 283), ('love', 274), ('thank', 248), ('u', 245)]\n"
     ]
    }
   ],
   "source": [
    "freq_dist_pos = FreqDist(all_pos_words)\n",
    "print(freq_dist_pos.most_common(10))"
   ]
  },
  {
   "cell_type": "code",
   "execution_count": 38,
   "id": "88efdf9e-c50c-4f24-b286-1fa949627f33",
   "metadata": {},
   "outputs": [],
   "source": [
    "def get_tweets_for_model(cleaned_tokens_list):\n",
    "    for tweet_tokens in cleaned_tokens_list:\n",
    "        yield dict([token, True] for token in tweet_tokens)\n",
    "\n",
    "positive_tokens_for_model = get_tweets_for_model(pos_cleaned_tok)\n",
    "negative_tokens_for_model = get_tweets_for_model(neg_cleaned_tok)"
   ]
  },
  {
   "cell_type": "code",
   "execution_count": 39,
   "id": "43ac6b82-39ea-418a-813d-389ade0a054c",
   "metadata": {},
   "outputs": [],
   "source": [
    "import random\n",
    "\n",
    "positive_dataset = [(tweet_dict, \"Positive\")\n",
    "                     for tweet_dict in positive_tokens_for_model]\n",
    "\n",
    "negative_dataset = [(tweet_dict, \"Negative\")\n",
    "                     for tweet_dict in negative_tokens_for_model]\n",
    "\n",
    "dataset = positive_dataset + negative_dataset\n",
    "\n",
    "random.shuffle(dataset)\n",
    "\n",
    "train_data = dataset[:7000]\n",
    "test_data = dataset[7000:]"
   ]
  },
  {
   "cell_type": "code",
   "execution_count": 40,
   "id": "98fe7b0f-cb15-4f1b-a6bd-ad8aed405533",
   "metadata": {},
   "outputs": [
    {
     "name": "stdout",
     "output_type": "stream",
     "text": [
      "Accuracy is: 0.9953333333333333\n",
      "Most Informative Features\n",
      "                      :( = True           Negati : Positi =   2055.1 : 1.0\n",
      "                      :) = True           Positi : Negati =    999.5 : 1.0\n",
      "                     sad = True           Negati : Positi =     52.2 : 1.0\n",
      "                     bam = True           Positi : Negati =     21.7 : 1.0\n",
      "                 arrived = True           Positi : Negati =     17.0 : 1.0\n",
      "                     x15 = True           Negati : Positi =     15.6 : 1.0\n",
      "                   loves = True           Positi : Negati =     14.6 : 1.0\n",
      "                 welcome = True           Positi : Negati =     12.8 : 1.0\n",
      "                     via = True           Positi : Negati =     12.6 : 1.0\n",
      "               wonderful = True           Positi : Negati =     12.4 : 1.0\n",
      "None\n"
     ]
    }
   ],
   "source": [
    "classifier = NaiveBayesClassifier.train(train_data)\n",
    "\n",
    "print(\"Accuracy is:\", classify.accuracy(classifier, test_data))\n",
    "\n",
    "print(classifier.show_most_informative_features(10))"
   ]
  },
  {
   "cell_type": "code",
   "execution_count": 41,
   "id": "9fd5ee3f-3a67-4ee2-a87a-d5db06c2ef72",
   "metadata": {},
   "outputs": [
    {
     "name": "stdout",
     "output_type": "stream",
     "text": [
      "Negative\n"
     ]
    }
   ],
   "source": [
    "custom_tweet = \"I ordered just once from TerribleCo, they screwed up, never used the app again.\"\n",
    "\n",
    "custom_tokens = remove_noise(word_tokenize(custom_tweet))\n",
    "\n",
    "print(classifier.classify(dict([token, True] for token in custom_tokens)))"
   ]
  },
  {
   "cell_type": "code",
   "execution_count": 42,
   "id": "d094186b-16c3-4e7c-9724-c0687b2b79e9",
   "metadata": {},
   "outputs": [
    {
     "name": "stdout",
     "output_type": "stream",
     "text": [
      "Positive\n"
     ]
    }
   ],
   "source": [
    "custom_tweet = 'Thank you for sending my baggage to CityX and flying me to CityY at the same time. Brilliant service. #thanksGenericAirline'\n",
    "custom_tokens = remove_noise(word_tokenize(custom_tweet))\n",
    "\n",
    "print(classifier.classify(dict([token, True] for token in custom_tokens)))"
   ]
  }
 ],
 "metadata": {
  "kernelspec": {
   "display_name": "Python 3 (ipykernel)",
   "language": "python",
   "name": "python3"
  },
  "language_info": {
   "codemirror_mode": {
    "name": "ipython",
    "version": 3
   },
   "file_extension": ".py",
   "mimetype": "text/x-python",
   "name": "python",
   "nbconvert_exporter": "python",
   "pygments_lexer": "ipython3",
   "version": "3.9.18"
  }
 },
 "nbformat": 4,
 "nbformat_minor": 5
}
